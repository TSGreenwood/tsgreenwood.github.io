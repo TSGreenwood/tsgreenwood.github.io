{
  "nbformat": 4,
  "nbformat_minor": 0,
  "metadata": {
    "colab": {
      "provenance": [],
      "authorship_tag": "ABX9TyOv5cj7UJ04T0pVKzT4/wlu",
      "include_colab_link": true
    },
    "kernelspec": {
      "name": "python3",
      "display_name": "Python 3"
    },
    "language_info": {
      "name": "python"
    }
  },
  "cells": [
    {
      "cell_type": "markdown",
      "metadata": {
        "id": "view-in-github",
        "colab_type": "text"
      },
      "source": [
        "<a href=\"https://colab.research.google.com/github/TSGreenwood/tsgreenwood.github.io/blob/google_cloud/map_bike_lanes_folium.ipynb\" target=\"_parent\"><img src=\"https://colab.research.google.com/assets/colab-badge.svg\" alt=\"Open In Colab\"/></a>"
      ]
    },
    {
      "cell_type": "markdown",
      "source": [
        "**Map bike lanes using Folium**"
      ],
      "metadata": {
        "id": "fQloWGLUgWlL"
      }
    },
    {
      "cell_type": "code",
      "source": [
        "# Set the current project in Google Cloud SDK to 'taragreenwoodpersonalwebsite'\n",
        "\n",
        "!gcloud config set project 'taragreenwoodpersonalwebsite'"
      ],
      "metadata": {
        "colab": {
          "base_uri": "https://localhost:8080/"
        },
        "id": "nsBmM6fSfqwE",
        "outputId": "91abe32a-45a0-4b47-c5b3-15929c311db9"
      },
      "execution_count": 1,
      "outputs": [
        {
          "output_type": "stream",
          "name": "stdout",
          "text": [
            "Updated property [core/project].\n"
          ]
        }
      ]
    },
    {
      "cell_type": "code",
      "source": [
        "# Connect notebook to my Drive account\n",
        "\n",
        "from google.colab import auth\n",
        "auth.authenticate_user()"
      ],
      "metadata": {
        "id": "oqK5CgvndtJk"
      },
      "execution_count": 2,
      "outputs": []
    },
    {
      "cell_type": "code",
      "source": [
        "# Navigate to my repo\n",
        "\n",
        "!git clone https://github.com/TSGreenwood/tsgreenwood.github.io.git"
      ],
      "metadata": {
        "colab": {
          "base_uri": "https://localhost:8080/"
        },
        "id": "ITcYtfoRGJJb",
        "outputId": "179b2a20-1257-4f33-ca2d-20bb38ba6e5e"
      },
      "execution_count": 3,
      "outputs": [
        {
          "output_type": "stream",
          "name": "stdout",
          "text": [
            "Cloning into 'tsgreenwood.github.io'...\n",
            "remote: Enumerating objects: 1363, done.\u001b[K\n",
            "remote: Counting objects: 100% (1363/1363), done.\u001b[K\n",
            "remote: Compressing objects: 100% (578/578), done.\u001b[K\n",
            "remote: Total 1363 (delta 834), reused 1253 (delta 759), pack-reused 0\u001b[K\n",
            "Receiving objects: 100% (1363/1363), 37.46 MiB | 18.10 MiB/s, done.\n",
            "Resolving deltas: 100% (834/834), done.\n"
          ]
        }
      ]
    },
    {
      "cell_type": "code",
      "source": [
        "%cd tsgreenwood.github.io/"
      ],
      "metadata": {
        "colab": {
          "base_uri": "https://localhost:8080/"
        },
        "id": "Q7gjyjecGcyr",
        "outputId": "b7930417-f5ac-4559-8127-1dfc994ad495"
      },
      "execution_count": 4,
      "outputs": [
        {
          "output_type": "stream",
          "name": "stdout",
          "text": [
            "/content/tsgreenwood.github.io\n"
          ]
        }
      ]
    },
    {
      "cell_type": "code",
      "source": [
        "#! ls"
      ],
      "metadata": {
        "colab": {
          "base_uri": "https://localhost:8080/"
        },
        "id": "SW5ebZVaHcPC",
        "outputId": "03c370c9-720a-4453-dfce-c40972f73d82"
      },
      "execution_count": null,
      "outputs": [
        {
          "output_type": "stream",
          "name": "stdout",
          "text": [
            " CNAME\t\t  index.html\t\t\t\t    menu.html\n",
            " css\t\t  js\t\t\t\t\t   'python_foundation_environment .yml'\n",
            " embedding.html   king_county_public_transit_options.html   README.md\n",
            " empty.html\t  kingcountytransitmapping\t\t    resume.html\n",
            " footer.html\t  LICENSE\t\t\t\t    static\n",
            " img\t\t  mapbox_gl_js_tutorial.html\t\t    widgets.html\n"
          ]
        }
      ]
    },
    {
      "cell_type": "code",
      "source": [
        "# Switch branches\n",
        "\n",
        "!git checkout google_cloud"
      ],
      "metadata": {
        "colab": {
          "base_uri": "https://localhost:8080/"
        },
        "id": "ioqLrkn2HcUZ",
        "outputId": "cf4a77f6-c9f7-4d76-9d8d-281288d85840"
      },
      "execution_count": 5,
      "outputs": [
        {
          "output_type": "stream",
          "name": "stdout",
          "text": [
            "Branch 'google_cloud' set up to track remote branch 'google_cloud' from 'origin'.\n",
            "Switched to a new branch 'google_cloud'\n"
          ]
        }
      ]
    },
    {
      "cell_type": "code",
      "source": [
        "# Pull the latest changes\n",
        "\n",
        "!git pull origin google_cloud"
      ],
      "metadata": {
        "colab": {
          "base_uri": "https://localhost:8080/"
        },
        "id": "0235Exp6H53W",
        "outputId": "58bd8f00-3fae-4526-d201-a72866dba1ef"
      },
      "execution_count": 6,
      "outputs": [
        {
          "output_type": "stream",
          "name": "stdout",
          "text": [
            "From https://github.com/TSGreenwood/tsgreenwood.github.io\n",
            " * branch            google_cloud -> FETCH_HEAD\n",
            "Already up to date.\n"
          ]
        }
      ]
    },
    {
      "cell_type": "code",
      "source": [
        "# If config problems\n",
        "#!git config user.email \"greenwood.ts@gmail.com\"\n",
        "#!git config user.name \"Greenwood\""
      ],
      "metadata": {
        "id": "X8qiIJ6PIl5R"
      },
      "execution_count": null,
      "outputs": []
    },
    {
      "cell_type": "code",
      "source": [
        "#!git merge origin/google_cloud --no-edit"
      ],
      "metadata": {
        "colab": {
          "base_uri": "https://localhost:8080/"
        },
        "id": "NpMDecWfdjQt",
        "outputId": "29a5567e-47fa-4ea1-aa12-5c605824f9ef"
      },
      "execution_count": null,
      "outputs": [
        {
          "output_type": "stream",
          "name": "stdout",
          "text": [
            "Merge made by the 'ort' strategy.\n",
            " connect_github_cloud_colab_template.ipynb                       | 497 \u001b[32m+++++++++++++++++++++++++++\u001b[m\n",
            " .../python_notebooks/bike_routes_preprocessing.ipynb            | 298 \u001b[32m++++++++++++++++\u001b[m\n",
            " .../python_notebooks/cloud_colab_notebook_template.ipynb        |  93 \u001b[32m+++++\u001b[m\n",
            " .../python_notebooks/map_bike_lanes_folium.ipynb                | 470 \u001b[32m++++++++++++++++++++++++++\u001b[m\n",
            " .../python_notebooks/mapping_bike_lanes_folium.ipynb            |   0\n",
            " kingcountytransitmapping/utils/generalized_mapping_functions    |  27 \u001b[32m++\u001b[m\n",
            " kingcountytransitmapping/utils/mapping_functions.py             |  71 \u001b[32m++++\u001b[m\n",
            " map_bike_lanes_folium.ipynb                                     | 505 \u001b[32m++++++++++++++++++++++++++++\u001b[m\n",
            " map_template_folium.ipynb                                       | 387 \u001b[32m+++++++++++++++++++++\u001b[m\n",
            " 9 files changed, 2348 insertions(+)\n",
            " create mode 100644 connect_github_cloud_colab_template.ipynb\n",
            " create mode 100644 kingcountytransitmapping/python_notebooks/bike_routes_preprocessing.ipynb\n",
            " create mode 100644 kingcountytransitmapping/python_notebooks/cloud_colab_notebook_template.ipynb\n",
            " create mode 100644 kingcountytransitmapping/python_notebooks/map_bike_lanes_folium.ipynb\n",
            " create mode 100644 kingcountytransitmapping/python_notebooks/mapping_bike_lanes_folium.ipynb\n",
            " create mode 100644 kingcountytransitmapping/utils/generalized_mapping_functions\n",
            " create mode 100644 kingcountytransitmapping/utils/mapping_functions.py\n",
            " create mode 100644 map_bike_lanes_folium.ipynb\n",
            " create mode 100644 map_template_folium.ipynb\n"
          ]
        }
      ]
    },
    {
      "cell_type": "code",
      "source": [
        "# Import my mapping functions from the mapping_functions.py file located in my repository into Colab notebook\n",
        "\n",
        "!wget https://raw.githubusercontent.com/TSGreenwood/tsgreenwood.github.io/google_cloud/kingcountytransitmapping/utils/mapping_functions.py"
      ],
      "metadata": {
        "colab": {
          "base_uri": "https://localhost:8080/"
        },
        "id": "v5IyFmNB8_H6",
        "outputId": "5b10c410-937e-4420-c067-be2cc495fa09"
      },
      "execution_count": 7,
      "outputs": [
        {
          "output_type": "stream",
          "name": "stdout",
          "text": [
            "--2024-03-25 03:27:30--  https://raw.githubusercontent.com/TSGreenwood/tsgreenwood.github.io/google_cloud/kingcountytransitmapping/utils/mapping_functions.py\n",
            "Resolving raw.githubusercontent.com (raw.githubusercontent.com)... 185.199.108.133, 185.199.109.133, 185.199.110.133, ...\n",
            "Connecting to raw.githubusercontent.com (raw.githubusercontent.com)|185.199.108.133|:443... connected.\n",
            "HTTP request sent, awaiting response... 200 OK\n",
            "Length: 2829 (2.8K) [text/plain]\n",
            "Saving to: ‘mapping_functions.py’\n",
            "\n",
            "\rmapping_functions.p   0%[                    ]       0  --.-KB/s               \rmapping_functions.p 100%[===================>]   2.76K  --.-KB/s    in 0s      \n",
            "\n",
            "2024-03-25 03:27:30 (46.3 MB/s) - ‘mapping_functions.py’ saved [2829/2829]\n",
            "\n"
          ]
        }
      ]
    },
    {
      "cell_type": "code",
      "source": [
        "import mapping_functions"
      ],
      "metadata": {
        "id": "_JvonLWH9N0n"
      },
      "execution_count": 8,
      "outputs": []
    },
    {
      "cell_type": "code",
      "source": [
        "! git status"
      ],
      "metadata": {
        "colab": {
          "base_uri": "https://localhost:8080/"
        },
        "id": "7pOAsBwjKwp-",
        "outputId": "6c4aac7c-d66f-4bfe-cb10-2de5e0e10d1d"
      },
      "execution_count": null,
      "outputs": [
        {
          "output_type": "stream",
          "name": "stdout",
          "text": [
            "On branch king_county_mapbox_tiles\n",
            "Your branch is ahead of 'origin/king_county_mapbox_tiles' by 28 commits.\n",
            "  (use \"git push\" to publish your local commits)\n",
            "\n",
            "Untracked files:\n",
            "  (use \"git add <file>...\" to include in what will be committed)\n",
            "\t\u001b[31m__pycache__/\u001b[m\n",
            "\t\u001b[31mmapping_functions.py\u001b[m\n",
            "\n",
            "nothing added to commit but untracked files present (use \"git add\" to track)\n"
          ]
        }
      ]
    },
    {
      "cell_type": "code",
      "source": [
        "# Initialize basemap\n",
        "\n",
        "m1 = mapping_functions.create_anchored_kc_map()"
      ],
      "metadata": {
        "id": "D-wfzDsHBtC5",
        "colab": {
          "base_uri": "https://localhost:8080/",
          "height": 180
        },
        "outputId": "0a914ec1-1089-494e-90c9-68cba1a38549"
      },
      "execution_count": 23,
      "outputs": [
        {
          "output_type": "error",
          "ename": "AttributeError",
          "evalue": "module 'mapping_functions' has no attribute 'create_anchored_kc_map'",
          "traceback": [
            "\u001b[0;31m---------------------------------------------------------------------------\u001b[0m",
            "\u001b[0;31mAttributeError\u001b[0m                            Traceback (most recent call last)",
            "\u001b[0;32m<ipython-input-23-7dc952a49bb0>\u001b[0m in \u001b[0;36m<cell line: 3>\u001b[0;34m()\u001b[0m\n\u001b[1;32m      1\u001b[0m \u001b[0;31m# Initialize basemap\u001b[0m\u001b[0;34m\u001b[0m\u001b[0;34m\u001b[0m\u001b[0m\n\u001b[1;32m      2\u001b[0m \u001b[0;34m\u001b[0m\u001b[0m\n\u001b[0;32m----> 3\u001b[0;31m \u001b[0mm1\u001b[0m \u001b[0;34m=\u001b[0m \u001b[0mmapping_functions\u001b[0m\u001b[0;34m.\u001b[0m\u001b[0mcreate_anchored_kc_map\u001b[0m\u001b[0;34m(\u001b[0m\u001b[0;34m)\u001b[0m\u001b[0;34m\u001b[0m\u001b[0;34m\u001b[0m\u001b[0m\n\u001b[0m",
            "\u001b[0;31mAttributeError\u001b[0m: module 'mapping_functions' has no attribute 'create_anchored_kc_map'"
          ]
        }
      ]
    },
    {
      "cell_type": "code",
      "source": [
        "# Work directly with GeoJSON dataset stored in Google Cloud bucket\n",
        "\n",
        "import json\n",
        "from google.cloud import storage"
      ],
      "metadata": {
        "id": "ZM45-Juy9R6v"
      },
      "execution_count": null,
      "outputs": []
    },
    {
      "cell_type": "code",
      "source": [
        "# Access the GeoJSON File from the Bucket\n",
        "\n",
        "# Initialize a client\n",
        "storage_client = storage.Client()\n",
        "\n",
        "# Define your bucket name and file name\n",
        "bucket_name = 'kingcountypublictransit'\n",
        "blob_name = 'data/bike_lanes.geojson'\n",
        "\n",
        "# Create a bucket object and a blob (file) object\n",
        "bucket = storage_client.get_bucket(bucket_name)\n",
        "blob = bucket.blob(blob_name)"
      ],
      "metadata": {
        "id": "GhtAzu0zAGE1"
      },
      "execution_count": null,
      "outputs": []
    },
    {
      "cell_type": "code",
      "source": [
        "# Ddownload the GeoJSON file directly into memory and load it as a JSON object. This approach avoids saving the file locally\n",
        "\n",
        "# Download the file's content into memory\n",
        "geojson_as_string = blob.download_as_string()\n",
        "\n",
        "# Convert the string to a JSON object\n",
        "geojson_data = json.loads(geojson_as_string)"
      ],
      "metadata": {
        "id": "wIzTd_KHBkvJ"
      },
      "execution_count": null,
      "outputs": []
    },
    {
      "cell_type": "markdown",
      "source": [
        "Now that the dataset is loaded, we'll do some mapping."
      ],
      "metadata": {
        "id": "7iBkvpREB-mE"
      }
    },
    {
      "cell_type": "code",
      "source": [
        "m1"
      ],
      "metadata": {
        "id": "89UmQRX3Ugb6"
      },
      "execution_count": null,
      "outputs": []
    },
    {
      "cell_type": "code",
      "source": [
        "import folium\n",
        "\n",
        "def create_anchored_kc_base_map(default_location=[47.60805584750898, -122.30272433294837],\n",
        "                                width='300px', height='485.4px', default_zoom_start=10):\n",
        "    m = folium.Map(location=default_location, zoom_start=default_zoom_start,\n",
        "                   tiles='https://server.arcgisonline.com/ArcGIS/rest/services/World_Topo_Map/MapServer/tile/{z}/{y}/{x}',\n",
        "                   attr='Esri', overlay=False, control_scale=True, min_zoom=8)\n",
        "\n",
        "    # Define your boundary for King County or the specific area of interest\n",
        "    boundary = {\n",
        "        'north': 47.734145,\n",
        "        'south': 47.491912,\n",
        "        'east': -121.8,\n",
        "        'west': -122.4\n",
        "    }\n",
        "\n",
        "    # Apply the max bounds to the map\n",
        "    m.fit_bounds([\n",
        "        [boundary['south'], boundary['west']],\n",
        "        [boundary['north'], boundary['east']]\n",
        "    ])\n",
        "\n",
        "    # Ensure user cannot pan outside of the given boundary\n",
        "    m.options['maxBounds'] = [\n",
        "        [boundary['south'], boundary['west']],\n",
        "        [boundary['north'], boundary['east']]\n",
        "    ]\n",
        "\n",
        "    return m\n"
      ],
      "metadata": {
        "id": "JZgHjfNipmJX"
      },
      "execution_count": 24,
      "outputs": []
    },
    {
      "cell_type": "code",
      "source": [
        "m2 = create_anchored_kc_base_map()"
      ],
      "metadata": {
        "id": "68PcXRwNrA1f"
      },
      "execution_count": 25,
      "outputs": []
    },
    {
      "cell_type": "code",
      "source": [
        "import folium\n",
        "from folium import plugins"
      ],
      "metadata": {
        "id": "pD8szV1yrER_"
      },
      "execution_count": 13,
      "outputs": []
    },
    {
      "cell_type": "code",
      "source": [
        "m2"
      ],
      "metadata": {
        "id": "7frtPw92rPWY"
      },
      "execution_count": null,
      "outputs": []
    },
    {
      "cell_type": "code",
      "source": [],
      "metadata": {
        "id": "4S__EseHrR63"
      },
      "execution_count": null,
      "outputs": []
    }
  ]
}