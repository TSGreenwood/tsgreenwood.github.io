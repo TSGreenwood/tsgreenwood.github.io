{
  "nbformat": 4,
  "nbformat_minor": 0,
  "metadata": {
    "colab": {
      "provenance": [],
      "authorship_tag": "ABX9TyNPsuo40J5+gGJPCp3WzY0Y",
      "include_colab_link": true
    },
    "kernelspec": {
      "name": "python3",
      "display_name": "Python 3"
    },
    "language_info": {
      "name": "python"
    }
  },
  "cells": [
    {
      "cell_type": "markdown",
      "metadata": {
        "id": "view-in-github",
        "colab_type": "text"
      },
      "source": [
        "<a href=\"https://colab.research.google.com/github/TSGreenwood/tsgreenwood.github.io/blob/google_cloud/map_bike_lanes_folium.ipynb\" target=\"_parent\"><img src=\"https://colab.research.google.com/assets/colab-badge.svg\" alt=\"Open In Colab\"/></a>"
      ]
    },
    {
      "cell_type": "markdown",
      "source": [
        "**Map bike lanes using Folium**"
      ],
      "metadata": {
        "id": "fQloWGLUgWlL"
      }
    },
    {
      "cell_type": "code",
      "source": [
        "# Set the current project in Google Cloud SDK to 'taragreenwoodpersonalwebsite'\n",
        "\n",
        "!gcloud config set project 'taragreenwoodpersonalwebsite'"
      ],
      "metadata": {
        "colab": {
          "base_uri": "https://localhost:8080/"
        },
        "id": "nsBmM6fSfqwE",
        "outputId": "91abe32a-45a0-4b47-c5b3-15929c311db9"
      },
      "execution_count": 1,
      "outputs": [
        {
          "output_type": "stream",
          "name": "stdout",
          "text": [
            "Updated property [core/project].\n"
          ]
        }
      ]
    },
    {
      "cell_type": "code",
      "source": [
        "# Connect notebook to my Drive account\n",
        "\n",
        "from google.colab import auth\n",
        "auth.authenticate_user()"
      ],
      "metadata": {
        "id": "oqK5CgvndtJk"
      },
      "execution_count": 2,
      "outputs": []
    },
    {
      "cell_type": "code",
      "source": [
        "# Navigate to my repo\n",
        "\n",
        "!git clone https://github.com/TSGreenwood/tsgreenwood.github.io.git"
      ],
      "metadata": {
        "colab": {
          "base_uri": "https://localhost:8080/"
        },
        "id": "ITcYtfoRGJJb",
        "outputId": "179b2a20-1257-4f33-ca2d-20bb38ba6e5e"
      },
      "execution_count": 3,
      "outputs": [
        {
          "output_type": "stream",
          "name": "stdout",
          "text": [
            "Cloning into 'tsgreenwood.github.io'...\n",
            "remote: Enumerating objects: 1363, done.\u001b[K\n",
            "remote: Counting objects: 100% (1363/1363), done.\u001b[K\n",
            "remote: Compressing objects: 100% (578/578), done.\u001b[K\n",
            "remote: Total 1363 (delta 834), reused 1253 (delta 759), pack-reused 0\u001b[K\n",
            "Receiving objects: 100% (1363/1363), 37.46 MiB | 18.10 MiB/s, done.\n",
            "Resolving deltas: 100% (834/834), done.\n"
          ]
        }
      ]
    },
    {
      "cell_type": "code",
      "source": [
        "%cd tsgreenwood.github.io/"
      ],
      "metadata": {
        "colab": {
          "base_uri": "https://localhost:8080/"
        },
        "id": "Q7gjyjecGcyr",
        "outputId": "b7930417-f5ac-4559-8127-1dfc994ad495"
      },
      "execution_count": 4,
      "outputs": [
        {
          "output_type": "stream",
          "name": "stdout",
          "text": [
            "/content/tsgreenwood.github.io\n"
          ]
        }
      ]
    },
    {
      "cell_type": "code",
      "source": [
        "#! ls"
      ],
      "metadata": {
        "colab": {
          "base_uri": "https://localhost:8080/"
        },
        "id": "SW5ebZVaHcPC",
        "outputId": "03c370c9-720a-4453-dfce-c40972f73d82"
      },
      "execution_count": null,
      "outputs": [
        {
          "output_type": "stream",
          "name": "stdout",
          "text": [
            " CNAME\t\t  index.html\t\t\t\t    menu.html\n",
            " css\t\t  js\t\t\t\t\t   'python_foundation_environment .yml'\n",
            " embedding.html   king_county_public_transit_options.html   README.md\n",
            " empty.html\t  kingcountytransitmapping\t\t    resume.html\n",
            " footer.html\t  LICENSE\t\t\t\t    static\n",
            " img\t\t  mapbox_gl_js_tutorial.html\t\t    widgets.html\n"
          ]
        }
      ]
    },
    {
      "cell_type": "code",
      "source": [
        "# Switch branches\n",
        "\n",
        "!git checkout google_cloud"
      ],
      "metadata": {
        "colab": {
          "base_uri": "https://localhost:8080/"
        },
        "id": "ioqLrkn2HcUZ",
        "outputId": "cf4a77f6-c9f7-4d76-9d8d-281288d85840"
      },
      "execution_count": 5,
      "outputs": [
        {
          "output_type": "stream",
          "name": "stdout",
          "text": [
            "Branch 'google_cloud' set up to track remote branch 'google_cloud' from 'origin'.\n",
            "Switched to a new branch 'google_cloud'\n"
          ]
        }
      ]
    },
    {
      "cell_type": "code",
      "source": [
        "# Pull the latest changes\n",
        "\n",
        "!git pull origin google_cloud"
      ],
      "metadata": {
        "colab": {
          "base_uri": "https://localhost:8080/"
        },
        "id": "0235Exp6H53W",
        "outputId": "58bd8f00-3fae-4526-d201-a72866dba1ef"
      },
      "execution_count": 6,
      "outputs": [
        {
          "output_type": "stream",
          "name": "stdout",
          "text": [
            "From https://github.com/TSGreenwood/tsgreenwood.github.io\n",
            " * branch            google_cloud -> FETCH_HEAD\n",
            "Already up to date.\n"
          ]
        }
      ]
    },
    {
      "cell_type": "code",
      "source": [
        "# If config problems\n",
        "#!git config user.email \"greenwood.ts@gmail.com\"\n",
        "#!git config user.name \"Greenwood\""
      ],
      "metadata": {
        "id": "X8qiIJ6PIl5R"
      },
      "execution_count": null,
      "outputs": []
    },
    {
      "cell_type": "code",
      "source": [
        "#!git merge origin/google_cloud --no-edit"
      ],
      "metadata": {
        "colab": {
          "base_uri": "https://localhost:8080/"
        },
        "id": "NpMDecWfdjQt",
        "outputId": "29a5567e-47fa-4ea1-aa12-5c605824f9ef"
      },
      "execution_count": null,
      "outputs": [
        {
          "output_type": "stream",
          "name": "stdout",
          "text": [
            "Merge made by the 'ort' strategy.\n",
            " connect_github_cloud_colab_template.ipynb                       | 497 \u001b[32m+++++++++++++++++++++++++++\u001b[m\n",
            " .../python_notebooks/bike_routes_preprocessing.ipynb            | 298 \u001b[32m++++++++++++++++\u001b[m\n",
            " .../python_notebooks/cloud_colab_notebook_template.ipynb        |  93 \u001b[32m+++++\u001b[m\n",
            " .../python_notebooks/map_bike_lanes_folium.ipynb                | 470 \u001b[32m++++++++++++++++++++++++++\u001b[m\n",
            " .../python_notebooks/mapping_bike_lanes_folium.ipynb            |   0\n",
            " kingcountytransitmapping/utils/generalized_mapping_functions    |  27 \u001b[32m++\u001b[m\n",
            " kingcountytransitmapping/utils/mapping_functions.py             |  71 \u001b[32m++++\u001b[m\n",
            " map_bike_lanes_folium.ipynb                                     | 505 \u001b[32m++++++++++++++++++++++++++++\u001b[m\n",
            " map_template_folium.ipynb                                       | 387 \u001b[32m+++++++++++++++++++++\u001b[m\n",
            " 9 files changed, 2348 insertions(+)\n",
            " create mode 100644 connect_github_cloud_colab_template.ipynb\n",
            " create mode 100644 kingcountytransitmapping/python_notebooks/bike_routes_preprocessing.ipynb\n",
            " create mode 100644 kingcountytransitmapping/python_notebooks/cloud_colab_notebook_template.ipynb\n",
            " create mode 100644 kingcountytransitmapping/python_notebooks/map_bike_lanes_folium.ipynb\n",
            " create mode 100644 kingcountytransitmapping/python_notebooks/mapping_bike_lanes_folium.ipynb\n",
            " create mode 100644 kingcountytransitmapping/utils/generalized_mapping_functions\n",
            " create mode 100644 kingcountytransitmapping/utils/mapping_functions.py\n",
            " create mode 100644 map_bike_lanes_folium.ipynb\n",
            " create mode 100644 map_template_folium.ipynb\n"
          ]
        }
      ]
    },
    {
      "cell_type": "code",
      "source": [
        "# Import my mapping functions from the mapping_functions.py file located in my repository into Colab notebook\n",
        "\n",
        "!wget https://raw.githubusercontent.com/TSGreenwood/tsgreenwood.github.io/google_cloud/kingcountytransitmapping/utils/mapping_functions.py"
      ],
      "metadata": {
        "colab": {
          "base_uri": "https://localhost:8080/"
        },
        "id": "v5IyFmNB8_H6",
        "outputId": "5b10c410-937e-4420-c067-be2cc495fa09"
      },
      "execution_count": 7,
      "outputs": [
        {
          "output_type": "stream",
          "name": "stdout",
          "text": [
            "--2024-03-25 03:27:30--  https://raw.githubusercontent.com/TSGreenwood/tsgreenwood.github.io/google_cloud/kingcountytransitmapping/utils/mapping_functions.py\n",
            "Resolving raw.githubusercontent.com (raw.githubusercontent.com)... 185.199.108.133, 185.199.109.133, 185.199.110.133, ...\n",
            "Connecting to raw.githubusercontent.com (raw.githubusercontent.com)|185.199.108.133|:443... connected.\n",
            "HTTP request sent, awaiting response... 200 OK\n",
            "Length: 2829 (2.8K) [text/plain]\n",
            "Saving to: ‘mapping_functions.py’\n",
            "\n",
            "\rmapping_functions.p   0%[                    ]       0  --.-KB/s               \rmapping_functions.p 100%[===================>]   2.76K  --.-KB/s    in 0s      \n",
            "\n",
            "2024-03-25 03:27:30 (46.3 MB/s) - ‘mapping_functions.py’ saved [2829/2829]\n",
            "\n"
          ]
        }
      ]
    },
    {
      "cell_type": "code",
      "source": [
        "import mapping_functions"
      ],
      "metadata": {
        "id": "_JvonLWH9N0n"
      },
      "execution_count": 8,
      "outputs": []
    },
    {
      "cell_type": "code",
      "source": [
        "! git status"
      ],
      "metadata": {
        "colab": {
          "base_uri": "https://localhost:8080/"
        },
        "id": "7pOAsBwjKwp-",
        "outputId": "6c4aac7c-d66f-4bfe-cb10-2de5e0e10d1d"
      },
      "execution_count": null,
      "outputs": [
        {
          "output_type": "stream",
          "name": "stdout",
          "text": [
            "On branch king_county_mapbox_tiles\n",
            "Your branch is ahead of 'origin/king_county_mapbox_tiles' by 28 commits.\n",
            "  (use \"git push\" to publish your local commits)\n",
            "\n",
            "Untracked files:\n",
            "  (use \"git add <file>...\" to include in what will be committed)\n",
            "\t\u001b[31m__pycache__/\u001b[m\n",
            "\t\u001b[31mmapping_functions.py\u001b[m\n",
            "\n",
            "nothing added to commit but untracked files present (use \"git add\" to track)\n"
          ]
        }
      ]
    },
    {
      "cell_type": "code",
      "source": [
        "# Initialize basemap\n",
        "\n",
        "m1 = mapping_functions.create_kc_map()"
      ],
      "metadata": {
        "id": "D-wfzDsHBtC5"
      },
      "execution_count": 9,
      "outputs": []
    },
    {
      "cell_type": "code",
      "source": [
        "# Work directly with GeoJSON dataset stored in Google Cloud bucket\n",
        "\n",
        "import json\n",
        "from google.cloud import storage"
      ],
      "metadata": {
        "id": "ZM45-Juy9R6v"
      },
      "execution_count": null,
      "outputs": []
    },
    {
      "cell_type": "code",
      "source": [
        "# Access the GeoJSON File from the Bucket\n",
        "\n",
        "# Initialize a client\n",
        "storage_client = storage.Client()\n",
        "\n",
        "# Define your bucket name and file name\n",
        "bucket_name = 'kingcountypublictransit'\n",
        "blob_name = 'data/bike_lanes.geojson'\n",
        "\n",
        "# Create a bucket object and a blob (file) object\n",
        "bucket = storage_client.get_bucket(bucket_name)\n",
        "blob = bucket.blob(blob_name)"
      ],
      "metadata": {
        "id": "GhtAzu0zAGE1"
      },
      "execution_count": null,
      "outputs": []
    },
    {
      "cell_type": "code",
      "source": [
        "# Ddownload the GeoJSON file directly into memory and load it as a JSON object. This approach avoids saving the file locally\n",
        "\n",
        "# Download the file's content into memory\n",
        "geojson_as_string = blob.download_as_string()\n",
        "\n",
        "# Convert the string to a JSON object\n",
        "geojson_data = json.loads(geojson_as_string)"
      ],
      "metadata": {
        "id": "wIzTd_KHBkvJ"
      },
      "execution_count": null,
      "outputs": []
    },
    {
      "cell_type": "markdown",
      "source": [
        "Now that the dataset is loaded, we'll do some mapping."
      ],
      "metadata": {
        "id": "7iBkvpREB-mE"
      }
    },
    {
      "cell_type": "code",
      "source": [
        "m1"
      ],
      "metadata": {
        "id": "89UmQRX3Ugb6",
        "colab": {
          "base_uri": "https://localhost:8080/",
          "height": 1000
        },
        "outputId": "dbcd8531-2443-4cf2-e2eb-722ad66989d7"
      },
      "execution_count": 10,
      "outputs": [
        {
          "output_type": "execute_result",
          "data": {
            "text/plain": [
              "<folium.folium.Map at 0x7dc141aa5810>"
            ],
            "text/html": [
              "<div style=\"width:100%;\"><div style=\"position:relative;width:100%;height:0;padding-bottom:60%;\"><span style=\"color:#565656\">Make this Notebook Trusted to load map: File -> Trust Notebook</span><iframe srcdoc=\"&lt;!DOCTYPE html&gt;\n",
              "&lt;html&gt;\n",
              "&lt;head&gt;\n",
              "    \n",
              "    &lt;meta http-equiv=&quot;content-type&quot; content=&quot;text/html; charset=UTF-8&quot; /&gt;\n",
              "    \n",
              "        &lt;script&gt;\n",
              "            L_NO_TOUCH = false;\n",
              "            L_DISABLE_3D = false;\n",
              "        &lt;/script&gt;\n",
              "    \n",
              "    &lt;style&gt;html, body {width: 100%;height: 100%;margin: 0;padding: 0;}&lt;/style&gt;\n",
              "    &lt;style&gt;#map {position:absolute;top:0;bottom:0;right:0;left:0;}&lt;/style&gt;\n",
              "    &lt;script src=&quot;https://cdn.jsdelivr.net/npm/leaflet@1.9.3/dist/leaflet.js&quot;&gt;&lt;/script&gt;\n",
              "    &lt;script src=&quot;https://code.jquery.com/jquery-1.12.4.min.js&quot;&gt;&lt;/script&gt;\n",
              "    &lt;script src=&quot;https://cdn.jsdelivr.net/npm/bootstrap@5.2.2/dist/js/bootstrap.bundle.min.js&quot;&gt;&lt;/script&gt;\n",
              "    &lt;script src=&quot;https://cdnjs.cloudflare.com/ajax/libs/Leaflet.awesome-markers/2.0.2/leaflet.awesome-markers.js&quot;&gt;&lt;/script&gt;\n",
              "    &lt;link rel=&quot;stylesheet&quot; href=&quot;https://cdn.jsdelivr.net/npm/leaflet@1.9.3/dist/leaflet.css&quot;/&gt;\n",
              "    &lt;link rel=&quot;stylesheet&quot; href=&quot;https://cdn.jsdelivr.net/npm/bootstrap@5.2.2/dist/css/bootstrap.min.css&quot;/&gt;\n",
              "    &lt;link rel=&quot;stylesheet&quot; href=&quot;https://netdna.bootstrapcdn.com/bootstrap/3.0.0/css/bootstrap.min.css&quot;/&gt;\n",
              "    &lt;link rel=&quot;stylesheet&quot; href=&quot;https://cdn.jsdelivr.net/npm/@fortawesome/fontawesome-free@6.2.0/css/all.min.css&quot;/&gt;\n",
              "    &lt;link rel=&quot;stylesheet&quot; href=&quot;https://cdnjs.cloudflare.com/ajax/libs/Leaflet.awesome-markers/2.0.2/leaflet.awesome-markers.css&quot;/&gt;\n",
              "    &lt;link rel=&quot;stylesheet&quot; href=&quot;https://cdn.jsdelivr.net/gh/python-visualization/folium/folium/templates/leaflet.awesome.rotate.min.css&quot;/&gt;\n",
              "    \n",
              "            &lt;meta name=&quot;viewport&quot; content=&quot;width=device-width,\n",
              "                initial-scale=1.0, maximum-scale=1.0, user-scalable=no&quot; /&gt;\n",
              "            &lt;style&gt;\n",
              "                #map_4bba1b2b65a905fcd3195267171774fd {\n",
              "                    position: relative;\n",
              "                    width: 100.0%;\n",
              "                    height: 100.0%;\n",
              "                    left: 0.0%;\n",
              "                    top: 0.0%;\n",
              "                }\n",
              "                .leaflet-container { font-size: 1rem; }\n",
              "            &lt;/style&gt;\n",
              "        \n",
              "&lt;/head&gt;\n",
              "&lt;body&gt;\n",
              "    \n",
              "    \n",
              "            &lt;div class=&quot;folium-map&quot; id=&quot;map_4bba1b2b65a905fcd3195267171774fd&quot; &gt;&lt;/div&gt;\n",
              "        \n",
              "&lt;/body&gt;\n",
              "&lt;script&gt;\n",
              "    \n",
              "    \n",
              "            var map_4bba1b2b65a905fcd3195267171774fd = L.map(\n",
              "                &quot;map_4bba1b2b65a905fcd3195267171774fd&quot;,\n",
              "                {\n",
              "                    center: [47.608013, -122.335167],\n",
              "                    crs: L.CRS.EPSG3857,\n",
              "                    maxBounds: [[-90, -180], [90, 180]],\n",
              "                    zoom: 12,\n",
              "                    zoomControl: true,\n",
              "                    preferCanvas: false,\n",
              "                }\n",
              "            );\n",
              "            L.control.scale().addTo(map_4bba1b2b65a905fcd3195267171774fd);\n",
              "\n",
              "            \n",
              "\n",
              "        \n",
              "    \n",
              "            var tile_layer_a6ae16b5d7d0d83a4d962bdc29db1784 = L.tileLayer(\n",
              "                &quot;https://{s}.tile.openstreetmap.org/{z}/{x}/{y}.png&quot;,\n",
              "                {&quot;attribution&quot;: &quot;Data by \\u0026copy; \\u003ca target=\\&quot;_blank\\&quot; href=\\&quot;http://openstreetmap.org\\&quot;\\u003eOpenStreetMap\\u003c/a\\u003e, under \\u003ca target=\\&quot;_blank\\&quot; href=\\&quot;http://www.openstreetmap.org/copyright\\&quot;\\u003eODbL\\u003c/a\\u003e.&quot;, &quot;detectRetina&quot;: false, &quot;maxNativeZoom&quot;: 25, &quot;maxZoom&quot;: 25, &quot;minZoom&quot;: 9, &quot;noWrap&quot;: false, &quot;opacity&quot;: 1, &quot;subdomains&quot;: &quot;abc&quot;, &quot;tms&quot;: false}\n",
              "            ).addTo(map_4bba1b2b65a905fcd3195267171774fd);\n",
              "        \n",
              "    \n",
              "            var tile_layer_ae94770d19dd8ff0f4e1bcd02866f38b = L.tileLayer(\n",
              "                &quot;https://server.arcgisonline.com/ArcGIS/rest/services/World_Imagery/MapServer/tile/{z}/{y}/{x}&quot;,\n",
              "                {&quot;attribution&quot;: &quot;Esri&quot;, &quot;detectRetina&quot;: false, &quot;maxNativeZoom&quot;: 18, &quot;maxZoom&quot;: 18, &quot;minZoom&quot;: 0, &quot;noWrap&quot;: false, &quot;opacity&quot;: 1, &quot;subdomains&quot;: &quot;abc&quot;, &quot;tms&quot;: false}\n",
              "            ).addTo(map_4bba1b2b65a905fcd3195267171774fd);\n",
              "        \n",
              "&lt;/script&gt;\n",
              "&lt;/html&gt;\" style=\"position:absolute;width:100%;height:100%;left:0;top:0;border:none !important;\" allowfullscreen webkitallowfullscreen mozallowfullscreen></iframe></div></div>"
            ]
          },
          "metadata": {},
          "execution_count": 10
        }
      ]
    },
    {
      "cell_type": "code",
      "source": [],
      "metadata": {
        "id": "JZgHjfNipmJX"
      },
      "execution_count": null,
      "outputs": []
    }
  ]
}