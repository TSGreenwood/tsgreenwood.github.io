{
  "nbformat": 4,
  "nbformat_minor": 0,
  "metadata": {
    "colab": {
      "provenance": [],
      "authorship_tag": "ABX9TyN73hnltz8H+yG6sFryg/D/",
      "include_colab_link": true
    },
    "kernelspec": {
      "name": "python3",
      "display_name": "Python 3"
    },
    "language_info": {
      "name": "python"
    }
  },
  "cells": [
    {
      "cell_type": "markdown",
      "metadata": {
        "id": "view-in-github",
        "colab_type": "text"
      },
      "source": [
        "<a href=\"https://colab.research.google.com/github/TSGreenwood/tsgreenwood.github.io/blob/google_cloud/map_bike_lanes_folium.ipynb\" target=\"_parent\"><img src=\"https://colab.research.google.com/assets/colab-badge.svg\" alt=\"Open In Colab\"/></a>"
      ]
    },
    {
      "cell_type": "markdown",
      "source": [
        "**Map bike lanes using Folium**"
      ],
      "metadata": {
        "id": "fQloWGLUgWlL"
      }
    },
    {
      "cell_type": "code",
      "source": [
        "# Set the current project in Google Cloud SDK to 'taragreenwoodpersonalwebsite'\n",
        "\n",
        "!gcloud config set project 'taragreenwoodpersonalwebsite'"
      ],
      "metadata": {
        "colab": {
          "base_uri": "https://localhost:8080/"
        },
        "id": "nsBmM6fSfqwE",
        "outputId": "f49c7279-22eb-44a8-ea85-c17e5edaa1f5"
      },
      "execution_count": 1,
      "outputs": [
        {
          "output_type": "stream",
          "name": "stdout",
          "text": [
            "Updated property [core/project].\n"
          ]
        }
      ]
    },
    {
      "cell_type": "code",
      "source": [
        "# Connect notebook to my Drive account\n",
        "\n",
        "from google.colab import auth\n",
        "auth.authenticate_user()"
      ],
      "metadata": {
        "id": "oqK5CgvndtJk"
      },
      "execution_count": 2,
      "outputs": []
    },
    {
      "cell_type": "code",
      "source": [
        "# Navigate to my repo\n",
        "\n",
        "!git clone https://github.com/TSGreenwood/tsgreenwood.github.io.git"
      ],
      "metadata": {
        "colab": {
          "base_uri": "https://localhost:8080/"
        },
        "id": "ITcYtfoRGJJb",
        "outputId": "ea6663d0-1dae-40e8-f161-9afe806e7264"
      },
      "execution_count": 3,
      "outputs": [
        {
          "output_type": "stream",
          "name": "stdout",
          "text": [
            "Cloning into 'tsgreenwood.github.io'...\n",
            "remote: Enumerating objects: 1357, done.\u001b[K\n",
            "remote: Counting objects: 100% (1357/1357), done.\u001b[K\n",
            "remote: Compressing objects: 100% (572/572), done.\u001b[K\n",
            "remote: Total 1357 (delta 830), reused 1253 (delta 759), pack-reused 0\u001b[K\n",
            "Receiving objects: 100% (1357/1357), 37.46 MiB | 25.76 MiB/s, done.\n",
            "Resolving deltas: 100% (830/830), done.\n"
          ]
        }
      ]
    },
    {
      "cell_type": "code",
      "source": [
        "%cd tsgreenwood.github.io/"
      ],
      "metadata": {
        "colab": {
          "base_uri": "https://localhost:8080/"
        },
        "id": "Q7gjyjecGcyr",
        "outputId": "2fce2989-6fce-4539-f93a-506f00ab9140"
      },
      "execution_count": 4,
      "outputs": [
        {
          "output_type": "stream",
          "name": "stdout",
          "text": [
            "/content/tsgreenwood.github.io\n"
          ]
        }
      ]
    },
    {
      "cell_type": "code",
      "source": [
        "#! ls"
      ],
      "metadata": {
        "colab": {
          "base_uri": "https://localhost:8080/"
        },
        "id": "SW5ebZVaHcPC",
        "outputId": "03c370c9-720a-4453-dfce-c40972f73d82"
      },
      "execution_count": 5,
      "outputs": [
        {
          "output_type": "stream",
          "name": "stdout",
          "text": [
            " CNAME\t\t  index.html\t\t\t\t    menu.html\n",
            " css\t\t  js\t\t\t\t\t   'python_foundation_environment .yml'\n",
            " embedding.html   king_county_public_transit_options.html   README.md\n",
            " empty.html\t  kingcountytransitmapping\t\t    resume.html\n",
            " footer.html\t  LICENSE\t\t\t\t    static\n",
            " img\t\t  mapbox_gl_js_tutorial.html\t\t    widgets.html\n"
          ]
        }
      ]
    },
    {
      "cell_type": "code",
      "source": [
        "# Switch branches\n",
        "\n",
        "!git checkout google_cloud"
      ],
      "metadata": {
        "colab": {
          "base_uri": "https://localhost:8080/"
        },
        "id": "ioqLrkn2HcUZ",
        "outputId": "56a83481-dd6a-4d9b-9556-ad7781c32956"
      },
      "execution_count": 5,
      "outputs": [
        {
          "output_type": "stream",
          "name": "stdout",
          "text": [
            "Branch 'google_cloud' set up to track remote branch 'google_cloud' from 'origin'.\n",
            "Switched to a new branch 'google_cloud'\n"
          ]
        }
      ]
    },
    {
      "cell_type": "code",
      "source": [
        "# If config problems\n",
        "#!git config user.email \"greenwood.ts@gmail.com\"\n",
        "#!git config user.name \"Greenwood\""
      ],
      "metadata": {
        "id": "X8qiIJ6PIl5R"
      },
      "execution_count": 7,
      "outputs": []
    },
    {
      "cell_type": "code",
      "source": [
        "# Pull the latest changes\n",
        "\n",
        "!git pull origin google_cloud"
      ],
      "metadata": {
        "colab": {
          "base_uri": "https://localhost:8080/"
        },
        "id": "0235Exp6H53W",
        "outputId": "7cee0a4d-9e30-4fc1-c26b-88bb3de9261d"
      },
      "execution_count": 5,
      "outputs": [
        {
          "output_type": "stream",
          "name": "stdout",
          "text": [
            "From https://github.com/TSGreenwood/tsgreenwood.github.io\n",
            " * branch            google_cloud -> FETCH_HEAD\n",
            "\u001b[33mhint: You have divergent branches and need to specify how to reconcile them.\u001b[m\n",
            "\u001b[33mhint: You can do so by running one of the following commands sometime before\u001b[m\n",
            "\u001b[33mhint: your next pull:\u001b[m\n",
            "\u001b[33mhint: \u001b[m\n",
            "\u001b[33mhint:   git config pull.rebase false  # merge (the default strategy)\u001b[m\n",
            "\u001b[33mhint:   git config pull.rebase true   # rebase\u001b[m\n",
            "\u001b[33mhint:   git config pull.ff only       # fast-forward only\u001b[m\n",
            "\u001b[33mhint: \u001b[m\n",
            "\u001b[33mhint: You can replace \"git config\" with \"git config --global\" to set a default\u001b[m\n",
            "\u001b[33mhint: preference for all repositories. You can also pass --rebase, --no-rebase,\u001b[m\n",
            "\u001b[33mhint: or --ff-only on the command line to override the configured default per\u001b[m\n",
            "\u001b[33mhint: invocation.\u001b[m\n",
            "fatal: Need to specify how to reconcile divergent branches.\n"
          ]
        }
      ]
    },
    {
      "cell_type": "code",
      "source": [
        "# Import my mapping functions from the mapping_functions.py file located in my repository into Colab notebook\n",
        "\n",
        "!wget https://raw.githubusercontent.com/TSGreenwood/tsgreenwood.github.io/google_cloud/kingcountytransitmapping/utils/mapping_functions.py"
      ],
      "metadata": {
        "colab": {
          "base_uri": "https://localhost:8080/"
        },
        "id": "v5IyFmNB8_H6",
        "outputId": "f82b0b28-fd5c-417a-ad61-bb502874b29f"
      },
      "execution_count": 7,
      "outputs": [
        {
          "output_type": "stream",
          "name": "stdout",
          "text": [
            "--2024-03-25 02:28:36--  https://raw.githubusercontent.com/TSGreenwood/tsgreenwood.github.io/google_cloud/kingcountytransitmapping/utils/mapping_functions.py\n",
            "Resolving raw.githubusercontent.com (raw.githubusercontent.com)... 185.199.111.133, 185.199.110.133, 185.199.108.133, ...\n",
            "Connecting to raw.githubusercontent.com (raw.githubusercontent.com)|185.199.111.133|:443... connected.\n",
            "HTTP request sent, awaiting response... 200 OK\n",
            "Length: 2861 (2.8K) [text/plain]\n",
            "Saving to: ‘mapping_functions.py’\n",
            "\n",
            "mapping_functions.p 100%[===================>]   2.79K  --.-KB/s    in 0s      \n",
            "\n",
            "2024-03-25 02:28:36 (27.1 MB/s) - ‘mapping_functions.py’ saved [2861/2861]\n",
            "\n"
          ]
        }
      ]
    },
    {
      "cell_type": "code",
      "source": [
        "import mapping_functions"
      ],
      "metadata": {
        "id": "_JvonLWH9N0n"
      },
      "execution_count": 8,
      "outputs": []
    },
    {
      "cell_type": "code",
      "source": [
        "! git status"
      ],
      "metadata": {
        "colab": {
          "base_uri": "https://localhost:8080/"
        },
        "id": "7pOAsBwjKwp-",
        "outputId": "511a5a90-d036-4c93-ce3b-16dea051fe95"
      },
      "execution_count": 10,
      "outputs": [
        {
          "output_type": "stream",
          "name": "stdout",
          "text": [
            "On branch google_cloud\n",
            "Your branch is up to date with 'origin/google_cloud'.\n",
            "\n",
            "Untracked files:\n",
            "  (use \"git add <file>...\" to include in what will be committed)\n",
            "\t\u001b[31m__pycache__/\u001b[m\n",
            "\t\u001b[31mmapping_functions.py\u001b[m\n",
            "\n",
            "nothing added to commit but untracked files present (use \"git add\" to track)\n"
          ]
        }
      ]
    },
    {
      "cell_type": "code",
      "source": [
        "# Work directly with GeoJSON dataset stored in Google Cloud bucket\n",
        "\n",
        "import json\n",
        "from google.cloud import storage"
      ],
      "metadata": {
        "id": "ZM45-Juy9R6v"
      },
      "execution_count": 12,
      "outputs": []
    },
    {
      "cell_type": "code",
      "source": [
        "# Access the GeoJSON File from the Bucket\n",
        "\n",
        "# Initialize a client\n",
        "storage_client = storage.Client()\n",
        "\n",
        "# Define your bucket name and file name\n",
        "bucket_name = 'kingcountypublictransit'\n",
        "blob_name = 'data/bike_lanes.geojson'\n",
        "\n",
        "# Create a bucket object and a blob (file) object\n",
        "bucket = storage_client.get_bucket(bucket_name)\n",
        "blob = bucket.blob(blob_name)"
      ],
      "metadata": {
        "id": "GhtAzu0zAGE1"
      },
      "execution_count": 13,
      "outputs": []
    },
    {
      "cell_type": "code",
      "source": [
        "# Ddownload the GeoJSON file directly into memory and load it as a JSON object. This approach avoids saving the file locally\n",
        "\n",
        "# Download the file's content into memory\n",
        "geojson_as_string = blob.download_as_string()\n",
        "\n",
        "# Convert the string to a JSON object\n",
        "geojson_data = json.loads(geojson_as_string)"
      ],
      "metadata": {
        "id": "wIzTd_KHBkvJ"
      },
      "execution_count": 14,
      "outputs": []
    },
    {
      "cell_type": "markdown",
      "source": [
        "Now that the dataset is loaded, we'll do some mapping."
      ],
      "metadata": {
        "id": "7iBkvpREB-mE"
      }
    },
    {
      "cell_type": "code",
      "source": [
        "# Initialize basemap\n",
        "\n",
        "m1 = mapping_functions.create_kc_map()"
      ],
      "metadata": {
        "id": "D-wfzDsHBtC5"
      },
      "execution_count": 9,
      "outputs": []
    },
    {
      "cell_type": "code",
      "source": [
        "m1"
      ],
      "metadata": {
        "colab": {
          "base_uri": "https://localhost:8080/",
          "height": 1000
        },
        "id": "Bo5F2QDzUfrV",
        "outputId": "93583e7a-8b27-43ad-8ad4-a7333e783332"
      },
      "execution_count": 10,
      "outputs": [
        {
          "output_type": "execute_result",
          "data": {
            "text/plain": [
              "<folium.folium.Map at 0x7af4a30d60e0>"
            ],
            "text/html": [
              "<div style=\"width:100%;\"><div style=\"position:relative;width:100%;height:0;padding-bottom:60%;\"><span style=\"color:#565656\">Make this Notebook Trusted to load map: File -> Trust Notebook</span><iframe srcdoc=\"&lt;!DOCTYPE html&gt;\n",
              "&lt;html&gt;\n",
              "&lt;head&gt;\n",
              "    \n",
              "    &lt;meta http-equiv=&quot;content-type&quot; content=&quot;text/html; charset=UTF-8&quot; /&gt;\n",
              "    \n",
              "        &lt;script&gt;\n",
              "            L_NO_TOUCH = false;\n",
              "            L_DISABLE_3D = false;\n",
              "        &lt;/script&gt;\n",
              "    \n",
              "    &lt;style&gt;html, body {width: 100%;height: 100%;margin: 0;padding: 0;}&lt;/style&gt;\n",
              "    &lt;style&gt;#map {position:absolute;top:0;bottom:0;right:0;left:0;}&lt;/style&gt;\n",
              "    &lt;script src=&quot;https://cdn.jsdelivr.net/npm/leaflet@1.9.3/dist/leaflet.js&quot;&gt;&lt;/script&gt;\n",
              "    &lt;script src=&quot;https://code.jquery.com/jquery-1.12.4.min.js&quot;&gt;&lt;/script&gt;\n",
              "    &lt;script src=&quot;https://cdn.jsdelivr.net/npm/bootstrap@5.2.2/dist/js/bootstrap.bundle.min.js&quot;&gt;&lt;/script&gt;\n",
              "    &lt;script src=&quot;https://cdnjs.cloudflare.com/ajax/libs/Leaflet.awesome-markers/2.0.2/leaflet.awesome-markers.js&quot;&gt;&lt;/script&gt;\n",
              "    &lt;link rel=&quot;stylesheet&quot; href=&quot;https://cdn.jsdelivr.net/npm/leaflet@1.9.3/dist/leaflet.css&quot;/&gt;\n",
              "    &lt;link rel=&quot;stylesheet&quot; href=&quot;https://cdn.jsdelivr.net/npm/bootstrap@5.2.2/dist/css/bootstrap.min.css&quot;/&gt;\n",
              "    &lt;link rel=&quot;stylesheet&quot; href=&quot;https://netdna.bootstrapcdn.com/bootstrap/3.0.0/css/bootstrap.min.css&quot;/&gt;\n",
              "    &lt;link rel=&quot;stylesheet&quot; href=&quot;https://cdn.jsdelivr.net/npm/@fortawesome/fontawesome-free@6.2.0/css/all.min.css&quot;/&gt;\n",
              "    &lt;link rel=&quot;stylesheet&quot; href=&quot;https://cdnjs.cloudflare.com/ajax/libs/Leaflet.awesome-markers/2.0.2/leaflet.awesome-markers.css&quot;/&gt;\n",
              "    &lt;link rel=&quot;stylesheet&quot; href=&quot;https://cdn.jsdelivr.net/gh/python-visualization/folium/folium/templates/leaflet.awesome.rotate.min.css&quot;/&gt;\n",
              "    \n",
              "            &lt;meta name=&quot;viewport&quot; content=&quot;width=device-width,\n",
              "                initial-scale=1.0, maximum-scale=1.0, user-scalable=no&quot; /&gt;\n",
              "            &lt;style&gt;\n",
              "                #map_790048a2ac75df38903419a2592231bb {\n",
              "                    position: relative;\n",
              "                    width: 100.0%;\n",
              "                    height: 100.0%;\n",
              "                    left: 0.0%;\n",
              "                    top: 0.0%;\n",
              "                }\n",
              "                .leaflet-container { font-size: 1rem; }\n",
              "            &lt;/style&gt;\n",
              "        \n",
              "&lt;/head&gt;\n",
              "&lt;body&gt;\n",
              "    \n",
              "    \n",
              "            &lt;div class=&quot;folium-map&quot; id=&quot;map_790048a2ac75df38903419a2592231bb&quot; &gt;&lt;/div&gt;\n",
              "        \n",
              "&lt;/body&gt;\n",
              "&lt;script&gt;\n",
              "    \n",
              "    \n",
              "            var map_790048a2ac75df38903419a2592231bb = L.map(\n",
              "                &quot;map_790048a2ac75df38903419a2592231bb&quot;,\n",
              "                {\n",
              "                    center: [47.608013, -122.335167],\n",
              "                    crs: L.CRS.EPSG3857,\n",
              "                    maxBounds: [[47.0, -123.0], [48.0, -121.0]],\n",
              "                    zoom: 12,\n",
              "                    zoomControl: true,\n",
              "                    preferCanvas: false,\n",
              "                }\n",
              "            );\n",
              "            L.control.scale().addTo(map_790048a2ac75df38903419a2592231bb);\n",
              "\n",
              "            \n",
              "\n",
              "        \n",
              "    \n",
              "            var tile_layer_51539dbd4aad7248a42b059cbe0c9784 = L.tileLayer(\n",
              "                &quot;https://{s}.tile.openstreetmap.org/{z}/{x}/{y}.png&quot;,\n",
              "                {&quot;attribution&quot;: &quot;Data by \\u0026copy; \\u003ca target=\\&quot;_blank\\&quot; href=\\&quot;http://openstreetmap.org\\&quot;\\u003eOpenStreetMap\\u003c/a\\u003e, under \\u003ca target=\\&quot;_blank\\&quot; href=\\&quot;http://www.openstreetmap.org/copyright\\&quot;\\u003eODbL\\u003c/a\\u003e.&quot;, &quot;detectRetina&quot;: false, &quot;maxNativeZoom&quot;: 25, &quot;maxZoom&quot;: 25, &quot;minZoom&quot;: 9, &quot;noWrap&quot;: false, &quot;opacity&quot;: 1, &quot;subdomains&quot;: &quot;abc&quot;, &quot;tms&quot;: false}\n",
              "            ).addTo(map_790048a2ac75df38903419a2592231bb);\n",
              "        \n",
              "    \n",
              "            var tile_layer_731e91e1fa8b675e13b1682e8888c2cf = L.tileLayer(\n",
              "                &quot;https://server.arcgisonline.com/ArcGIS/rest/services/World_Imagery/MapServer/tile/{z}/{y}/{x}&quot;,\n",
              "                {&quot;attribution&quot;: &quot;Esri&quot;, &quot;detectRetina&quot;: false, &quot;maxNativeZoom&quot;: 18, &quot;maxZoom&quot;: 18, &quot;minZoom&quot;: 0, &quot;noWrap&quot;: false, &quot;opacity&quot;: 1, &quot;subdomains&quot;: &quot;abc&quot;, &quot;tms&quot;: false}\n",
              "            ).addTo(map_790048a2ac75df38903419a2592231bb);\n",
              "        \n",
              "&lt;/script&gt;\n",
              "&lt;/html&gt;\" style=\"position:absolute;width:100%;height:100%;left:0;top:0;border:none !important;\" allowfullscreen webkitallowfullscreen mozallowfullscreen></iframe></div></div>"
            ]
          },
          "metadata": {},
          "execution_count": 10
        }
      ]
    },
    {
      "cell_type": "code",
      "source": [],
      "metadata": {
        "id": "89UmQRX3Ugb6"
      },
      "execution_count": null,
      "outputs": []
    }
  ]
}