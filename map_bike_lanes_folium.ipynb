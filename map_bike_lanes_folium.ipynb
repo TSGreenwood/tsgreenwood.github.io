{
  "nbformat": 4,
  "nbformat_minor": 0,
  "metadata": {
    "colab": {
      "provenance": [],
      "authorship_tag": "ABX9TyNqHcbwyWupbYXtixEJC5pM",
      "include_colab_link": true
    },
    "kernelspec": {
      "name": "python3",
      "display_name": "Python 3"
    },
    "language_info": {
      "name": "python"
    }
  },
  "cells": [
    {
      "cell_type": "markdown",
      "metadata": {
        "id": "view-in-github",
        "colab_type": "text"
      },
      "source": [
        "<a href=\"https://colab.research.google.com/github/TSGreenwood/tsgreenwood.github.io/blob/google_cloud/map_bike_lanes_folium.ipynb\" target=\"_parent\"><img src=\"https://colab.research.google.com/assets/colab-badge.svg\" alt=\"Open In Colab\"/></a>"
      ]
    },
    {
      "cell_type": "markdown",
      "source": [
        "**Map bike lanes using Folium**"
      ],
      "metadata": {
        "id": "fQloWGLUgWlL"
      }
    },
    {
      "cell_type": "code",
      "source": [
        "# Set the current project in Google Cloud SDK to 'taragreenwoodpersonalwebsite'\n",
        "\n",
        "!gcloud config set project 'taragreenwoodpersonalwebsite'"
      ],
      "metadata": {
        "colab": {
          "base_uri": "https://localhost:8080/"
        },
        "id": "nsBmM6fSfqwE",
        "outputId": "e9fad25f-640c-4c9d-ec3c-e562f82ee9b1"
      },
      "execution_count": 1,
      "outputs": [
        {
          "output_type": "stream",
          "name": "stdout",
          "text": [
            "Updated property [core/project].\n"
          ]
        }
      ]
    },
    {
      "cell_type": "code",
      "source": [
        "# Connect notebook to my Drive account\n",
        "\n",
        "from google.colab import auth\n",
        "auth.authenticate_user()"
      ],
      "metadata": {
        "id": "oqK5CgvndtJk"
      },
      "execution_count": 2,
      "outputs": []
    },
    {
      "cell_type": "code",
      "source": [
        "# Navigate to my repo\n",
        "\n",
        "!git clone https://github.com/TSGreenwood/tsgreenwood.github.io.git"
      ],
      "metadata": {
        "colab": {
          "base_uri": "https://localhost:8080/"
        },
        "id": "ITcYtfoRGJJb",
        "outputId": "2bb3bd7f-7d15-4172-879c-68384cc9678e"
      },
      "execution_count": 5,
      "outputs": [
        {
          "output_type": "stream",
          "name": "stdout",
          "text": [
            "Cloning into 'tsgreenwood.github.io'...\n",
            "remote: Enumerating objects: 1297, done.\u001b[K\n",
            "remote: Counting objects: 100% (1297/1297), done.\u001b[K\n",
            "remote: Compressing objects: 100% (514/514), done.\u001b[K\n",
            "remote: Total 1297 (delta 787), reused 1253 (delta 759), pack-reused 0\u001b[K\n",
            "Receiving objects: 100% (1297/1297), 37.45 MiB | 16.19 MiB/s, done.\n",
            "Resolving deltas: 100% (787/787), done.\n"
          ]
        }
      ]
    },
    {
      "cell_type": "code",
      "source": [
        "%cd tsgreenwood.github.io/"
      ],
      "metadata": {
        "colab": {
          "base_uri": "https://localhost:8080/"
        },
        "id": "Q7gjyjecGcyr",
        "outputId": "5f63a7bc-7650-4e53-ffd5-93b8072495ab"
      },
      "execution_count": 7,
      "outputs": [
        {
          "output_type": "stream",
          "name": "stdout",
          "text": [
            "/content/tsgreenwood.github.io\n"
          ]
        }
      ]
    },
    {
      "cell_type": "code",
      "source": [
        "! ls"
      ],
      "metadata": {
        "colab": {
          "base_uri": "https://localhost:8080/"
        },
        "id": "SW5ebZVaHcPC",
        "outputId": "ba33520e-f5a9-412a-c1dd-8925a0f549cb"
      },
      "execution_count": 8,
      "outputs": [
        {
          "output_type": "stream",
          "name": "stdout",
          "text": [
            " CNAME\t\t  index.html\t\t\t\t    menu.html\n",
            " css\t\t  js\t\t\t\t\t   'python_foundation_environment .yml'\n",
            " embedding.html   king_county_public_transit_options.html   README.md\n",
            " empty.html\t  kingcountytransitmapping\t\t    resume.html\n",
            " footer.html\t  LICENSE\t\t\t\t    static\n",
            " img\t\t  mapbox_gl_js_tutorial.html\t\t    widgets.html\n"
          ]
        }
      ]
    },
    {
      "cell_type": "code",
      "source": [
        "# Switch branches\n",
        "\n",
        "!git checkout google_cloud"
      ],
      "metadata": {
        "colab": {
          "base_uri": "https://localhost:8080/"
        },
        "id": "ioqLrkn2HcUZ",
        "outputId": "0b81bc35-5c4a-47a7-8946-e46619c41684"
      },
      "execution_count": 9,
      "outputs": [
        {
          "output_type": "stream",
          "name": "stdout",
          "text": [
            "Branch 'google_cloud' set up to track remote branch 'google_cloud' from 'origin'.\n",
            "Switched to a new branch 'google_cloud'\n"
          ]
        }
      ]
    },
    {
      "cell_type": "code",
      "source": [
        "# If config problems\n",
        "#!git config user.email \"greenwood.ts@gmail.com\"\n",
        "#!git config user.name \"Greenwood\""
      ],
      "metadata": {
        "id": "X8qiIJ6PIl5R"
      },
      "execution_count": 11,
      "outputs": []
    },
    {
      "cell_type": "code",
      "source": [
        "# Pull the latest changes\n",
        "\n",
        "!git pull origin google_cloud"
      ],
      "metadata": {
        "colab": {
          "base_uri": "https://localhost:8080/"
        },
        "id": "0235Exp6H53W",
        "outputId": "2548c777-ca66-4b15-9094-57f890612ac4"
      },
      "execution_count": 27,
      "outputs": [
        {
          "output_type": "stream",
          "name": "stdout",
          "text": [
            "remote: Enumerating objects: 1, done.\u001b[K\n",
            "remote: Counting objects: 100% (1/1)\u001b[K\rremote: Counting objects: 100% (1/1), done.\u001b[K\n",
            "remote: Total 1 (delta 0), reused 0 (delta 0), pack-reused 0\u001b[K\n",
            "Unpacking objects: 100% (1/1)\rUnpacking objects: 100% (1/1), 836 bytes | 836.00 KiB/s, done.\n",
            "From https://github.com/TSGreenwood/tsgreenwood.github.io\n",
            " * branch            google_cloud -> FETCH_HEAD\n",
            "   3732ab2..980bb07  google_cloud -> origin/google_cloud\n",
            "Updating 3732ab2..980bb07\n",
            "Fast-forward\n"
          ]
        }
      ]
    },
    {
      "cell_type": "code",
      "source": [
        "# Import my mapping functions from the mapping_functions.py file located in my repository into Colab notebook\n",
        "\n",
        "!wget https://raw.githubusercontent.com/TSGreenwood/tsgreenwood.github.io/google_cloud/kingcountytransitmapping/utils/mapping_functions.py"
      ],
      "metadata": {
        "colab": {
          "base_uri": "https://localhost:8080/"
        },
        "id": "v5IyFmNB8_H6",
        "outputId": "03bfab22-1a2c-46ef-9c2f-eb41eda49c38"
      },
      "execution_count": 29,
      "outputs": [
        {
          "output_type": "stream",
          "name": "stdout",
          "text": [
            "--2024-03-25 01:49:31--  https://raw.githubusercontent.com/TSGreenwood/tsgreenwood.github.io/google_cloud/kingcountytransitmapping/utils/mapping_functions.py\n",
            "Resolving raw.githubusercontent.com (raw.githubusercontent.com)... 185.199.108.133, 185.199.109.133, 185.199.110.133, ...\n",
            "Connecting to raw.githubusercontent.com (raw.githubusercontent.com)|185.199.108.133|:443... connected.\n",
            "HTTP request sent, awaiting response... 200 OK\n",
            "Length: 2648 (2.6K) [text/plain]\n",
            "Saving to: ‘mapping_functions.py.3’\n",
            "\n",
            "\rmapping_functions.p   0%[                    ]       0  --.-KB/s               \rmapping_functions.p 100%[===================>]   2.59K  --.-KB/s    in 0s      \n",
            "\n",
            "2024-03-25 01:49:31 (33.6 MB/s) - ‘mapping_functions.py.3’ saved [2648/2648]\n",
            "\n"
          ]
        }
      ]
    },
    {
      "cell_type": "code",
      "source": [
        "import mapping_functions"
      ],
      "metadata": {
        "colab": {
          "base_uri": "https://localhost:8080/",
          "height": 251
        },
        "id": "_JvonLWH9N0n",
        "outputId": "1a57b8ee-88bd-49e9-8346-517fa3a4e672"
      },
      "execution_count": 30,
      "outputs": [
        {
          "output_type": "error",
          "ename": "SyntaxError",
          "evalue": "invalid syntax (mapping_functions.py, line 1)",
          "traceback": [
            "Traceback \u001b[0;36m(most recent call last)\u001b[0m:\n",
            "  File \u001b[1;32m\"/usr/local/lib/python3.10/dist-packages/IPython/core/interactiveshell.py\"\u001b[0m, line \u001b[1;32m3553\u001b[0m, in \u001b[1;35mrun_code\u001b[0m\n    exec(code_obj, self.user_global_ns, self.user_ns)\n",
            "\u001b[0;36m  File \u001b[0;32m\"<ipython-input-30-86341fccaaa3>\"\u001b[0;36m, line \u001b[0;32m1\u001b[0;36m, in \u001b[0;35m<cell line: 1>\u001b[0;36m\u001b[0m\n\u001b[0;31m    import mapping_functions\u001b[0m\n",
            "\u001b[0;36m  File \u001b[0;32m\"/content/tsgreenwood.github.io/mapping_functions.py\"\u001b[0;36m, line \u001b[0;32m1\u001b[0m\n\u001b[0;31m    Import folium\u001b[0m\n\u001b[0m           ^\u001b[0m\n\u001b[0;31mSyntaxError\u001b[0m\u001b[0;31m:\u001b[0m invalid syntax\n"
          ]
        }
      ]
    },
    {
      "cell_type": "code",
      "source": [
        "! git status"
      ],
      "metadata": {
        "colab": {
          "base_uri": "https://localhost:8080/"
        },
        "id": "7pOAsBwjKwp-",
        "outputId": "28fe2212-59a8-45cc-e645-9befb7716934"
      },
      "execution_count": 28,
      "outputs": [
        {
          "output_type": "stream",
          "name": "stdout",
          "text": [
            "On branch google_cloud\n",
            "Your branch is up to date with 'origin/google_cloud'.\n",
            "\n",
            "Untracked files:\n",
            "  (use \"git add <file>...\" to include in what will be committed)\n",
            "\t\u001b[31mmapping_functions.py\u001b[m\n",
            "\t\u001b[31mmapping_functions.py.1\u001b[m\n",
            "\t\u001b[31mmapping_functions.py.2\u001b[m\n",
            "\n",
            "nothing added to commit but untracked files present (use \"git add\" to track)\n"
          ]
        }
      ]
    },
    {
      "cell_type": "code",
      "source": [
        "# Work directly with GeoJSON dataset stored in Google Cloud bucket\n",
        "\n",
        "import json\n",
        "from google.cloud import storage"
      ],
      "metadata": {
        "id": "ZM45-Juy9R6v"
      },
      "execution_count": 7,
      "outputs": []
    },
    {
      "cell_type": "code",
      "source": [
        "# Access the GeoJSON File from the Bucket\n",
        "\n",
        "# Initialize a client\n",
        "storage_client = storage.Client()\n",
        "\n",
        "# Define your bucket name and file name\n",
        "bucket_name = 'kingcountypublictransit'\n",
        "blob_name = 'data/bike_lanes.geojson'\n",
        "\n",
        "# Create a bucket object and a blob (file) object\n",
        "bucket = storage_client.get_bucket(bucket_name)\n",
        "blob = bucket.blob(blob_name)"
      ],
      "metadata": {
        "id": "GhtAzu0zAGE1"
      },
      "execution_count": 8,
      "outputs": []
    },
    {
      "cell_type": "code",
      "source": [
        "# Ddownload the GeoJSON file directly into memory and load it as a JSON object. This approach avoids saving the file locally\n",
        "\n",
        "# Download the file's content into memory\n",
        "geojson_as_string = blob.download_as_string()\n",
        "\n",
        "# Convert the string to a JSON object\n",
        "geojson_data = json.loads(geojson_as_string)"
      ],
      "metadata": {
        "id": "wIzTd_KHBkvJ"
      },
      "execution_count": 9,
      "outputs": []
    },
    {
      "cell_type": "markdown",
      "source": [
        "Now that the dataset is loaded, we'll do some mapping."
      ],
      "metadata": {
        "id": "7iBkvpREB-mE"
      }
    },
    {
      "cell_type": "code",
      "source": [
        "# Initialize basemap\n",
        "\n",
        "m1 = mapping_functions.create_kc_map()"
      ],
      "metadata": {
        "colab": {
          "base_uri": "https://localhost:8080/",
          "height": 180
        },
        "id": "D-wfzDsHBtC5",
        "outputId": "c495d21b-3f24-483a-fbe0-696c7217b931"
      },
      "execution_count": 16,
      "outputs": [
        {
          "output_type": "error",
          "ename": "NameError",
          "evalue": "name 'mapping_functions' is not defined",
          "traceback": [
            "\u001b[0;31m---------------------------------------------------------------------------\u001b[0m",
            "\u001b[0;31mNameError\u001b[0m                                 Traceback (most recent call last)",
            "\u001b[0;32m<ipython-input-16-298a4e413b1d>\u001b[0m in \u001b[0;36m<cell line: 3>\u001b[0;34m()\u001b[0m\n\u001b[1;32m      1\u001b[0m \u001b[0;31m# Initialize basemap\u001b[0m\u001b[0;34m\u001b[0m\u001b[0;34m\u001b[0m\u001b[0m\n\u001b[1;32m      2\u001b[0m \u001b[0;34m\u001b[0m\u001b[0m\n\u001b[0;32m----> 3\u001b[0;31m \u001b[0mm1\u001b[0m \u001b[0;34m=\u001b[0m \u001b[0mmapping_functions\u001b[0m\u001b[0;34m.\u001b[0m\u001b[0mcreate_kc_map\u001b[0m\u001b[0;34m(\u001b[0m\u001b[0;34m)\u001b[0m\u001b[0;34m\u001b[0m\u001b[0;34m\u001b[0m\u001b[0m\n\u001b[0m",
            "\u001b[0;31mNameError\u001b[0m: name 'mapping_functions' is not defined"
          ]
        }
      ]
    },
    {
      "cell_type": "code",
      "source": [
        "# Most frequently used libraries\n",
        "\n",
        "import geopandas as gpd\n",
        "import folium\n",
        "from folium import plugins"
      ],
      "metadata": {
        "id": "8xoSNZRpe2YN"
      },
      "execution_count": 12,
      "outputs": []
    },
    {
      "cell_type": "code",
      "source": [
        "! git pull origin google_cloud"
      ],
      "metadata": {
        "colab": {
          "base_uri": "https://localhost:8080/"
        },
        "id": "m8Q-wZHfFDS-",
        "outputId": "3135f34b-3182-460d-de20-342e3f7123aa"
      },
      "execution_count": 13,
      "outputs": [
        {
          "output_type": "stream",
          "name": "stdout",
          "text": [
            "fatal: not a git repository (or any of the parent directories): .git\n"
          ]
        }
      ]
    },
    {
      "cell_type": "code",
      "source": [
        "! ls"
      ],
      "metadata": {
        "colab": {
          "base_uri": "https://localhost:8080/"
        },
        "id": "gu7rYzZJCHxr",
        "outputId": "9091bfcf-e2b2-452d-9490-901ac7d93507"
      },
      "execution_count": 17,
      "outputs": [
        {
          "output_type": "stream",
          "name": "stdout",
          "text": [
            "mapping_functions.py  mapping_functions.py.1  __pycache__  sample_data\n"
          ]
        }
      ]
    },
    {
      "cell_type": "code",
      "source": [
        "%cd tsgreenwood.github.io"
      ],
      "metadata": {
        "colab": {
          "base_uri": "https://localhost:8080/"
        },
        "id": "ileCBWcqFpVP",
        "outputId": "5a114e88-a1c7-47ae-f0d3-0f254189e495"
      },
      "execution_count": 19,
      "outputs": [
        {
          "output_type": "stream",
          "name": "stdout",
          "text": [
            "[Errno 2] No such file or directory: 'tsgreenwood.github.io'\n",
            "/content\n"
          ]
        }
      ]
    },
    {
      "cell_type": "code",
      "source": [],
      "metadata": {
        "id": "Bjg0hIF8FtJg"
      },
      "execution_count": null,
      "outputs": []
    }
  ]
}