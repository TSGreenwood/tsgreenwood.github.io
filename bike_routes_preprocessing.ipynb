{
  "nbformat": 4,
  "nbformat_minor": 0,
  "metadata": {
    "colab": {
      "provenance": [],
      "mount_file_id": "https://github.com/TSGreenwood/tsgreenwood.github.io/blob/google_cloud/bike_routes_preprocessing.ipynb",
      "authorship_tag": "ABX9TyOtsLjob/M8YDhAgiHh0ce3",
      "include_colab_link": true
    },
    "kernelspec": {
      "name": "python3",
      "display_name": "Python 3"
    },
    "language_info": {
      "name": "python"
    }
  },
  "cells": [
    {
      "cell_type": "markdown",
      "metadata": {
        "id": "view-in-github",
        "colab_type": "text"
      },
      "source": [
        "<a href=\"https://colab.research.google.com/github/TSGreenwood/tsgreenwood.github.io/blob/google_cloud/bike_routes_preprocessing.ipynb\" target=\"_parent\"><img src=\"https://colab.research.google.com/assets/colab-badge.svg\" alt=\"Open In Colab\"/></a>"
      ]
    },
    {
      "cell_type": "markdown",
      "source": [
        "# Data Analysis and Preprocessing of TNETBikeNetwork.gpkg"
      ],
      "metadata": {
        "id": "aGZivV1GrPJA"
      }
    },
    {
      "cell_type": "markdown",
      "source": [
        "This dataset is too big to host on github or google drive, so I hosted in in google cloud."
      ],
      "metadata": {
        "id": "Y3WVwXwku-ec"
      }
    },
    {
      "cell_type": "code",
      "source": [
        "from google.colab import auth\n",
        "auth.authenticate_user()"
      ],
      "metadata": {
        "id": "g4EtgbvyvFwE"
      },
      "execution_count": 1,
      "outputs": []
    },
    {
      "cell_type": "markdown",
      "source": [
        "Setting GCS Project and my Google Cloud project ID"
      ],
      "metadata": {
        "id": "n_i6Fe7svSjN"
      }
    },
    {
      "cell_type": "code",
      "source": [
        "!gcloud config set project 'taragreenwoodpersonalwebsite'"
      ],
      "metadata": {
        "id": "b7MrSXXXvF20",
        "outputId": "a2ed73b8-c047-4a41-8fb2-75cb95428723",
        "colab": {
          "base_uri": "https://localhost:8080/"
        }
      },
      "execution_count": 3,
      "outputs": [
        {
          "output_type": "stream",
          "name": "stdout",
          "text": [
            "Updated property [core/project].\n"
          ]
        }
      ]
    },
    {
      "cell_type": "code",
      "source": [
        "!pip install gcsfs geopandas"
      ],
      "metadata": {
        "id": "JvylnLA0w2YM"
      },
      "execution_count": null,
      "outputs": []
    },
    {
      "cell_type": "markdown",
      "source": [
        "Bring hefty dataset in for geopandas manipulation"
      ],
      "metadata": {
        "id": "P6hOXR84x98l"
      }
    },
    {
      "cell_type": "code",
      "execution_count": 6,
      "metadata": {
        "colab": {
          "base_uri": "https://localhost:8080/"
        },
        "id": "vFjdshn_rBOQ",
        "outputId": "25f2b391-3ffb-48a3-8712-c365705a61a7"
      },
      "outputs": [
        {
          "output_type": "stream",
          "name": "stdout",
          "text": [
            "Drive already mounted at /content/drive; to attempt to forcibly remount, call drive.mount(\"/content/drive\", force_remount=True).\n"
          ]
        }
      ],
      "source": [
        "from google.colab import drive\n",
        "drive.mount('/content/drive')"
      ]
    },
    {
      "cell_type": "code",
      "source": [
        "import geopandas as gpd"
      ],
      "metadata": {
        "id": "vdPu41erxc3S"
      },
      "execution_count": 7,
      "outputs": []
    },
    {
      "cell_type": "code",
      "source": [
        "bike_routes_gdf = gpd.read_file('gs://kingcountypublictransit/data/TNETBikeNetwork.gpkg')"
      ],
      "metadata": {
        "id": "LI2ofHXirukG"
      },
      "execution_count": 8,
      "outputs": []
    },
    {
      "cell_type": "code",
      "source": [
        "!git status"
      ],
      "metadata": {
        "id": "3BMovmMGxqKo",
        "outputId": "9e975a51-4a07-4898-e3a3-2f945d587dbe",
        "colab": {
          "base_uri": "https://localhost:8080/"
        }
      },
      "execution_count": 10,
      "outputs": [
        {
          "output_type": "stream",
          "name": "stdout",
          "text": [
            "fatal: not a git repository (or any of the parent directories): .git\n"
          ]
        }
      ]
    },
    {
      "cell_type": "code",
      "source": [],
      "metadata": {
        "id": "m8wLIJuEyrUn"
      },
      "execution_count": null,
      "outputs": []
    }
  ]
}