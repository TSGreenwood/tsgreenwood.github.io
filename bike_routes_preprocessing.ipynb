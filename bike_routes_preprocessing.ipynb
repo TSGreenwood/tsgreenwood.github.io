{
  "nbformat": 4,
  "nbformat_minor": 0,
  "metadata": {
    "colab": {
      "provenance": [],
      "mount_file_id": "https://github.com/TSGreenwood/tsgreenwood.github.io/blob/google_cloud/bike_routes_preprocessing.ipynb",
      "authorship_tag": "ABX9TyM0mWQ1vhLcR1F9v/DFHZG0",
      "include_colab_link": true
    },
    "kernelspec": {
      "name": "python3",
      "display_name": "Python 3"
    },
    "language_info": {
      "name": "python"
    }
  },
  "cells": [
    {
      "cell_type": "markdown",
      "metadata": {
        "id": "view-in-github",
        "colab_type": "text"
      },
      "source": [
        "<a href=\"https://colab.research.google.com/github/TSGreenwood/tsgreenwood.github.io/blob/google_cloud/bike_routes_preprocessing.ipynb\" target=\"_parent\"><img src=\"https://colab.research.google.com/assets/colab-badge.svg\" alt=\"Open In Colab\"/></a>"
      ]
    },
    {
      "cell_type": "markdown",
      "source": [
        "# Data Analysis and Preprocessing of TNETBikeNetwork.gpkg"
      ],
      "metadata": {
        "id": "aGZivV1GrPJA"
      }
    },
    {
      "cell_type": "markdown",
      "source": [
        "This dataset is too big to host on github or google drive, so I hosted in in google cloud."
      ],
      "metadata": {
        "id": "Y3WVwXwku-ec"
      }
    },
    {
      "cell_type": "code",
      "source": [
        "from google.colab import auth\n",
        "auth.authenticate_user()"
      ],
      "metadata": {
        "id": "g4EtgbvyvFwE"
      },
      "execution_count": 14,
      "outputs": []
    },
    {
      "cell_type": "markdown",
      "source": [
        "Setting GCS Project and my Google Cloud project ID"
      ],
      "metadata": {
        "id": "n_i6Fe7svSjN"
      }
    },
    {
      "cell_type": "code",
      "source": [
        "!gcloud config set project 'taragreenwoodpersonalwebsite'"
      ],
      "metadata": {
        "colab": {
          "base_uri": "https://localhost:8080/"
        },
        "id": "b7MrSXXXvF20",
        "outputId": "d92bdfc0-a1f8-4eed-c6ff-99346eea0cda"
      },
      "execution_count": 17,
      "outputs": [
        {
          "output_type": "stream",
          "name": "stdout",
          "text": [
            "Updated property [core/project].\n"
          ]
        }
      ]
    },
    {
      "cell_type": "code",
      "source": [
        "#!pip install gcsfs geopandas"
      ],
      "metadata": {
        "id": "JvylnLA0w2YM"
      },
      "execution_count": null,
      "outputs": []
    },
    {
      "cell_type": "markdown",
      "source": [
        "Bring hefty dataset in for geopandas manipulation"
      ],
      "metadata": {
        "id": "P6hOXR84x98l"
      }
    },
    {
      "cell_type": "code",
      "execution_count": 16,
      "metadata": {
        "colab": {
          "base_uri": "https://localhost:8080/"
        },
        "id": "vFjdshn_rBOQ",
        "outputId": "fd922461-7b26-4535-c49d-ef8d5fd7cd26"
      },
      "outputs": [
        {
          "output_type": "stream",
          "name": "stdout",
          "text": [
            "Drive already mounted at /content/drive; to attempt to forcibly remount, call drive.mount(\"/content/drive\", force_remount=True).\n"
          ]
        }
      ],
      "source": [
        "from google.colab import drive\n",
        "drive.mount('/content/drive')"
      ]
    },
    {
      "cell_type": "code",
      "source": [
        "import geopandas as gpd"
      ],
      "metadata": {
        "id": "vdPu41erxc3S"
      },
      "execution_count": 15,
      "outputs": []
    },
    {
      "cell_type": "code",
      "source": [
        "#Info about this dataset here: https://gis-kingcounty.opendata.arcgis.com/datasets/fe12aabfcd704a0998f16715a81ccd43_1458/about and here:https://www5.kingcounty.gov/sdc/FGDCDocs/TRANS_NETWORK_BIKE_faq.htm\n",
        "bike_routes_gdf = gpd.read_file('gs://kingcountypublictransit/data/TNETBikeNetwork.gpkg')"
      ],
      "metadata": {
        "id": "LI2ofHXirukG"
      },
      "execution_count": 18,
      "outputs": []
    },
    {
      "cell_type": "code",
      "source": [],
      "metadata": {
        "id": "dILP8VJ82mKf"
      },
      "execution_count": null,
      "outputs": []
    },
    {
      "cell_type": "markdown",
      "source": [
        "Info about this dataset here: https://gis-kingcounty.opendata.arcgis.com/datasets/fe12aabfcd704a0998f16715a81ccd43_1458/about and here:https://www5.kingcounty.gov/sdc/FGDCDocs/TRANS_NETWORK_BIKE_faq.htm"
      ],
      "metadata": {
        "id": "QJsJcpMr2m2B"
      }
    },
    {
      "cell_type": "code",
      "source": [
        "bike_routes_gdf.info()\n",
        "bike_routes_gdf.head()"
      ],
      "metadata": {
        "id": "m8wLIJuEyrUn"
      },
      "execution_count": null,
      "outputs": []
    },
    {
      "cell_type": "code",
      "source": [
        "print(bike_routes_gdf[bike_routes_gdf.duplicated()])"
      ],
      "metadata": {
        "id": "2kYOkm7Y3QkT"
      },
      "execution_count": null,
      "outputs": []
    },
    {
      "cell_type": "code",
      "source": [
        "bike_routes_gdf.plot()"
      ],
      "metadata": {
        "id": "Q2WjGVdPz0Xp"
      },
      "execution_count": null,
      "outputs": []
    },
    {
      "cell_type": "code",
      "source": [
        "#This dataset has too much unnecessary information so we'll reduce dimensions\n",
        "bike_columns_to_drop = ['OBJECTID','CREATEDATE','DB_MD_DATE','END_DATE','CFCC_ID','GRADE','PREFIX_L','NAME_L',\n",
        "                        'TYPE_L','SUFFIX_L','PREFIX_R','NAME_R','TYPE_R','SUFFIX_R','FULLNAME_L','AP_NAME_L','AP_NAME_R','A_NAME_L',\n",
        "                        'A_NAME_R','JURIS_L','JURIS_R','CITY_L','CITY_R','ZIP_L','ZIP_R']\n",
        "bike_routes_gdf = bike_routes_gdf.drop(columns=bike_columns_to_drop)\n",
        "bike_routes_gdf['TLINK_ID'] = bike_routes_gdf['TLINK_ID'].astype(str)\n",
        "bike_routes_gdf.info()"
      ],
      "metadata": {
        "colab": {
          "base_uri": "https://localhost:8080/"
        },
        "id": "q4wKiVG33F2v",
        "outputId": "cfd67783-f1ba-421c-e2e3-0d0655cb072c"
      },
      "execution_count": 23,
      "outputs": [
        {
          "output_type": "stream",
          "name": "stdout",
          "text": [
            "<class 'geopandas.geodataframe.GeoDataFrame'>\n",
            "RangeIndex: 143876 entries, 0 to 143875\n",
            "Data columns (total 8 columns):\n",
            " #   Column      Non-Null Count   Dtype   \n",
            "---  ------      --------------   -----   \n",
            " 0   TLINK_ID    143876 non-null  object  \n",
            " 1   EFFEC_DATE  143876 non-null  object  \n",
            " 2   FR_TPOINT   143876 non-null  int64   \n",
            " 3   TO_TPOINT   143876 non-null  int64   \n",
            " 4   FULLNAME_R  143876 non-null  object  \n",
            " 5   ROLL_LEN    143876 non-null  float64 \n",
            " 6   Shape_Leng  143876 non-null  float64 \n",
            " 7   geometry    143876 non-null  geometry\n",
            "dtypes: float64(2), geometry(1), int64(2), object(3)\n",
            "memory usage: 8.8+ MB\n"
          ]
        }
      ]
    },
    {
      "cell_type": "code",
      "source": [
        "# Write this to geojson\n",
        "\n",
        "bike_routes_gdf.to_file('bike_lanes.geojson', driver='GeoJSON')"
      ],
      "metadata": {
        "id": "vxLNEh6SYkWt"
      },
      "execution_count": 30,
      "outputs": []
    },
    {
      "cell_type": "code",
      "source": [
        "# Export this minty fresh geodata to my Google Cloud bucket\n",
        "\n",
        "bucket_name = 'kingcountypublictransit'\n",
        "\n",
        "# Upload the file using gsutil\n",
        "!gsutil cp ./bike_lanes.geojson gs://kingcountypublictransit/data/"
      ],
      "metadata": {
        "colab": {
          "base_uri": "https://localhost:8080/"
        },
        "id": "ZYvP_qKBV9qU",
        "outputId": "c041d4e7-a921-4819-f002-c473a96ca5bd"
      },
      "execution_count": 31,
      "outputs": [
        {
          "output_type": "stream",
          "name": "stdout",
          "text": [
            "Copying file://./bike_lanes.geojson [Content-Type=application/geo+json]...\n",
            "\\\n",
            "Operation completed over 1 objects/51.2 MiB.                                     \n"
          ]
        }
      ]
    }
  ]
}