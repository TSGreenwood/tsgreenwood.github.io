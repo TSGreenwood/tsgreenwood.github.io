{
  "nbformat": 4,
  "nbformat_minor": 0,
  "metadata": {
    "colab": {
      "provenance": [],
      "mount_file_id": "https://github.com/TSGreenwood/tsgreenwood.github.io/blob/google_cloud/bike_routes_preprocessing.ipynb",
      "authorship_tag": "ABX9TyPXKcT6OC4w4NAKKIrkghrw",
      "include_colab_link": true
    },
    "kernelspec": {
      "name": "python3",
      "display_name": "Python 3"
    },
    "language_info": {
      "name": "python"
    }
  },
  "cells": [
    {
      "cell_type": "markdown",
      "metadata": {
        "id": "view-in-github",
        "colab_type": "text"
      },
      "source": [
        "<a href=\"https://colab.research.google.com/github/TSGreenwood/tsgreenwood.github.io/blob/google_cloud/bike_routes_preprocessing.ipynb\" target=\"_parent\"><img src=\"https://colab.research.google.com/assets/colab-badge.svg\" alt=\"Open In Colab\"/></a>"
      ]
    },
    {
      "cell_type": "markdown",
      "source": [
        "# Data Analysis and Preprocessing of TNETBikeNetwork.gpkg"
      ],
      "metadata": {
        "id": "aGZivV1GrPJA"
      }
    },
    {
      "cell_type": "markdown",
      "source": [
        "This dataset is too big to host on github or google drive, so I hosted in in google cloud."
      ],
      "metadata": {
        "id": "Y3WVwXwku-ec"
      }
    },
    {
      "cell_type": "code",
      "source": [
        "from google.colab import auth\n",
        "auth.authenticate_user()"
      ],
      "metadata": {
        "id": "g4EtgbvyvFwE"
      },
      "execution_count": 1,
      "outputs": []
    },
    {
      "cell_type": "markdown",
      "source": [
        "Setting GCS Project and my Google Cloud project ID"
      ],
      "metadata": {
        "id": "n_i6Fe7svSjN"
      }
    },
    {
      "cell_type": "code",
      "source": [
        "!gcloud config set project 'taragreenwoodpersonalwebsite'"
      ],
      "metadata": {
        "colab": {
          "base_uri": "https://localhost:8080/"
        },
        "id": "b7MrSXXXvF20",
        "outputId": "a2ed73b8-c047-4a41-8fb2-75cb95428723"
      },
      "execution_count": 3,
      "outputs": [
        {
          "output_type": "stream",
          "name": "stdout",
          "text": [
            "Updated property [core/project].\n"
          ]
        }
      ]
    },
    {
      "cell_type": "code",
      "source": [
        "#!pip install gcsfs geopandas"
      ],
      "metadata": {
        "id": "JvylnLA0w2YM"
      },
      "execution_count": null,
      "outputs": []
    },
    {
      "cell_type": "markdown",
      "source": [
        "Bring hefty dataset in for geopandas manipulation"
      ],
      "metadata": {
        "id": "P6hOXR84x98l"
      }
    },
    {
      "cell_type": "code",
      "execution_count": null,
      "metadata": {
        "id": "vFjdshn_rBOQ"
      },
      "outputs": [],
      "source": [
        "from google.colab import drive\n",
        "drive.mount('/content/drive')"
      ]
    },
    {
      "cell_type": "code",
      "source": [
        "import geopandas as gpd"
      ],
      "metadata": {
        "id": "vdPu41erxc3S"
      },
      "execution_count": 7,
      "outputs": []
    },
    {
      "cell_type": "code",
      "source": [
        "#Info about this dataset here: https://gis-kingcounty.opendata.arcgis.com/datasets/fe12aabfcd704a0998f16715a81ccd43_1458/about and here:https://www5.kingcounty.gov/sdc/FGDCDocs/TRANS_NETWORK_BIKE_faq.htm\n",
        "bike_routes_gdf = gpd.read_file('gs://kingcountypublictransit/data/TNETBikeNetwork.gpkg')"
      ],
      "metadata": {
        "id": "LI2ofHXirukG"
      },
      "execution_count": 8,
      "outputs": []
    },
    {
      "cell_type": "code",
      "source": [],
      "metadata": {
        "id": "dILP8VJ82mKf"
      },
      "execution_count": null,
      "outputs": []
    },
    {
      "cell_type": "markdown",
      "source": [
        "Info about this dataset here: https://gis-kingcounty.opendata.arcgis.com/datasets/fe12aabfcd704a0998f16715a81ccd43_1458/about and here:https://www5.kingcounty.gov/sdc/FGDCDocs/TRANS_NETWORK_BIKE_faq.htm"
      ],
      "metadata": {
        "id": "QJsJcpMr2m2B"
      }
    },
    {
      "cell_type": "code",
      "source": [
        "#This dataset has too much unnecessary information so we'll reduce dimensions\n",
        "bike_columns_to_drop = ['OBJECTID'\n",
        "\n",
        "]"
      ],
      "metadata": {
        "id": "q4wKiVG33F2v",
        "outputId": "9653e8f5-d1ad-4875-ae83-a34e1085643a",
        "colab": {
          "base_uri": "https://localhost:8080/",
          "height": 162
        }
      },
      "execution_count": 13,
      "outputs": [
        {
          "output_type": "error",
          "ename": "NameError",
          "evalue": "name 'bike_columns' is not defined",
          "traceback": [
            "\u001b[0;31m---------------------------------------------------------------------------\u001b[0m",
            "\u001b[0;31mNameError\u001b[0m                                 Traceback (most recent call last)",
            "\u001b[0;32m<ipython-input-13-75128a4aed31>\u001b[0m in \u001b[0;36m<cell line: 2>\u001b[0;34m()\u001b[0m\n\u001b[1;32m      1\u001b[0m \u001b[0;31m#This dataset has too much unnecessary information so we'll reduce dimensions\u001b[0m\u001b[0;34m\u001b[0m\u001b[0;34m\u001b[0m\u001b[0m\n\u001b[0;32m----> 2\u001b[0;31m \u001b[0mbike_columns\u001b[0m\u001b[0;34m\u001b[0m\u001b[0;34m\u001b[0m\u001b[0m\n\u001b[0m",
            "\u001b[0;31mNameError\u001b[0m: name 'bike_columns' is not defined"
          ]
        }
      ]
    },
    {
      "cell_type": "code",
      "source": [
        "bike_routes_gdf.info()\n",
        "bike_routes_gdf.head()"
      ],
      "metadata": {
        "colab": {
          "base_uri": "https://localhost:8080/",
          "height": 1000
        },
        "id": "m8wLIJuEyrUn",
        "outputId": "4897a479-c3db-46fe-b010-790d0142b57e"
      },
      "execution_count": 11,
      "outputs": [
        {
          "output_type": "stream",
          "name": "stdout",
          "text": [
            "<class 'geopandas.geodataframe.GeoDataFrame'>\n",
            "RangeIndex: 143876 entries, 0 to 143875\n",
            "Data columns (total 33 columns):\n",
            " #   Column      Non-Null Count   Dtype   \n",
            "---  ------      --------------   -----   \n",
            " 0   OBJECTID    143876 non-null  int64   \n",
            " 1   TLINK_ID    143876 non-null  int64   \n",
            " 2   CREATEDATE  143876 non-null  object  \n",
            " 3   EFFEC_DATE  143876 non-null  object  \n",
            " 4   DB_MD_DATE  143876 non-null  object  \n",
            " 5   END_DATE    136290 non-null  object  \n",
            " 6   CFCC_ID     143876 non-null  object  \n",
            " 7   GRADE       143876 non-null  int64   \n",
            " 8   FR_TPOINT   143876 non-null  int64   \n",
            " 9   TO_TPOINT   143876 non-null  int64   \n",
            " 10  PREFIX_L    49359 non-null   object  \n",
            " 11  NAME_L      143876 non-null  object  \n",
            " 12  TYPE_L      127397 non-null  object  \n",
            " 13  SUFFIX_L    56432 non-null   object  \n",
            " 14  PREFIX_R    49361 non-null   object  \n",
            " 15  NAME_R      143876 non-null  object  \n",
            " 16  TYPE_R      127402 non-null  object  \n",
            " 17  SUFFIX_R    56442 non-null   object  \n",
            " 18  FULLNAME_L  143876 non-null  object  \n",
            " 19  FULLNAME_R  143876 non-null  object  \n",
            " 20  AP_NAME_L   2405 non-null    object  \n",
            " 21  AP_NAME_R   2409 non-null    object  \n",
            " 22  A_NAME_L    47 non-null      object  \n",
            " 23  A_NAME_R    47 non-null      object  \n",
            " 24  JURIS_L     143876 non-null  int64   \n",
            " 25  JURIS_R     143876 non-null  int64   \n",
            " 26  CITY_L      143876 non-null  object  \n",
            " 27  CITY_R      143876 non-null  object  \n",
            " 28  ZIP_L       143871 non-null  float64 \n",
            " 29  ZIP_R       143871 non-null  float64 \n",
            " 30  ROLL_LEN    143876 non-null  float64 \n",
            " 31  Shape_Leng  143876 non-null  float64 \n",
            " 32  geometry    143876 non-null  geometry\n",
            "dtypes: float64(4), geometry(1), int64(7), object(21)\n",
            "memory usage: 36.2+ MB\n"
          ]
        },
        {
          "output_type": "execute_result",
          "data": {
            "text/plain": [
              "   OBJECTID  TLINK_ID  CREATEDATE  EFFEC_DATE  DB_MD_DATE    END_DATE CFCC_ID  \\\n",
              "0         1      9537  1993-06-28  1993-06-28  2002-01-25  4000-01-01     A40   \n",
              "1         2    113165  1995-09-28  1995-09-28  2018-01-18  4000-01-01     A40   \n",
              "2         3     21455  1993-06-28  1993-06-28  2010-07-14  4000-01-01     A40   \n",
              "3         4      9889  1993-06-28  1993-06-28  1995-11-15  4000-01-01     A40   \n",
              "4         5    115925  1993-06-28  1993-06-28  2016-09-22  4000-01-01     A40   \n",
              "\n",
              "   GRADE  FR_TPOINT  TO_TPOINT  ... A_NAME_R JURIS_L JURIS_R       CITY_L  \\\n",
              "0      0     101697     101900  ...     None      35      35         Kent   \n",
              "1      0       1585       1587  ...     None      65      65    Shoreline   \n",
              "2      0     302912      92695  ...     None      76      76      Tukwila   \n",
              "3      0      86397     344665  ...     None      36      36  King County   \n",
              "4      0      97983      98111  ...     None      11      11       Burien   \n",
              "\n",
              "        CITY_R    ZIP_L    ZIP_R    ROLL_LEN  Shape_Leng  \\\n",
              "0         Kent  98031.0  98031.0  342.410418  342.410418   \n",
              "1    Shoreline  98155.0  98155.0  153.300000  153.300073   \n",
              "2      Tukwila  98188.0  98188.0   65.265000   64.742908   \n",
              "3  King County  98059.0  98059.0  268.068564  268.068564   \n",
              "4       Burien  98148.0  98148.0  214.350000  214.349847   \n",
              "\n",
              "                                            geometry  \n",
              "0  LINESTRING (-122.21422 47.41899, -122.21422 47...  \n",
              "1  LINESTRING (-122.30659 47.77427, -122.30597 47...  \n",
              "2  LINESTRING (-122.27349 47.45626, -122.27323 47...  \n",
              "3  LINESTRING (-122.10365 47.48038, -122.10364 47...  \n",
              "4  LINESTRING (-122.32989 47.43516, -122.32998 47...  \n",
              "\n",
              "[5 rows x 33 columns]"
            ],
            "text/html": [
              "\n",
              "  <div id=\"df-bfb699e8-16b5-4212-8501-91589f0ce640\" class=\"colab-df-container\">\n",
              "    <div>\n",
              "<style scoped>\n",
              "    .dataframe tbody tr th:only-of-type {\n",
              "        vertical-align: middle;\n",
              "    }\n",
              "\n",
              "    .dataframe tbody tr th {\n",
              "        vertical-align: top;\n",
              "    }\n",
              "\n",
              "    .dataframe thead th {\n",
              "        text-align: right;\n",
              "    }\n",
              "</style>\n",
              "<table border=\"1\" class=\"dataframe\">\n",
              "  <thead>\n",
              "    <tr style=\"text-align: right;\">\n",
              "      <th></th>\n",
              "      <th>OBJECTID</th>\n",
              "      <th>TLINK_ID</th>\n",
              "      <th>CREATEDATE</th>\n",
              "      <th>EFFEC_DATE</th>\n",
              "      <th>DB_MD_DATE</th>\n",
              "      <th>END_DATE</th>\n",
              "      <th>CFCC_ID</th>\n",
              "      <th>GRADE</th>\n",
              "      <th>FR_TPOINT</th>\n",
              "      <th>TO_TPOINT</th>\n",
              "      <th>...</th>\n",
              "      <th>A_NAME_R</th>\n",
              "      <th>JURIS_L</th>\n",
              "      <th>JURIS_R</th>\n",
              "      <th>CITY_L</th>\n",
              "      <th>CITY_R</th>\n",
              "      <th>ZIP_L</th>\n",
              "      <th>ZIP_R</th>\n",
              "      <th>ROLL_LEN</th>\n",
              "      <th>Shape_Leng</th>\n",
              "      <th>geometry</th>\n",
              "    </tr>\n",
              "  </thead>\n",
              "  <tbody>\n",
              "    <tr>\n",
              "      <th>0</th>\n",
              "      <td>1</td>\n",
              "      <td>9537</td>\n",
              "      <td>1993-06-28</td>\n",
              "      <td>1993-06-28</td>\n",
              "      <td>2002-01-25</td>\n",
              "      <td>4000-01-01</td>\n",
              "      <td>A40</td>\n",
              "      <td>0</td>\n",
              "      <td>101697</td>\n",
              "      <td>101900</td>\n",
              "      <td>...</td>\n",
              "      <td>None</td>\n",
              "      <td>35</td>\n",
              "      <td>35</td>\n",
              "      <td>Kent</td>\n",
              "      <td>Kent</td>\n",
              "      <td>98031.0</td>\n",
              "      <td>98031.0</td>\n",
              "      <td>342.410418</td>\n",
              "      <td>342.410418</td>\n",
              "      <td>LINESTRING (-122.21422 47.41899, -122.21422 47...</td>\n",
              "    </tr>\n",
              "    <tr>\n",
              "      <th>1</th>\n",
              "      <td>2</td>\n",
              "      <td>113165</td>\n",
              "      <td>1995-09-28</td>\n",
              "      <td>1995-09-28</td>\n",
              "      <td>2018-01-18</td>\n",
              "      <td>4000-01-01</td>\n",
              "      <td>A40</td>\n",
              "      <td>0</td>\n",
              "      <td>1585</td>\n",
              "      <td>1587</td>\n",
              "      <td>...</td>\n",
              "      <td>None</td>\n",
              "      <td>65</td>\n",
              "      <td>65</td>\n",
              "      <td>Shoreline</td>\n",
              "      <td>Shoreline</td>\n",
              "      <td>98155.0</td>\n",
              "      <td>98155.0</td>\n",
              "      <td>153.300000</td>\n",
              "      <td>153.300073</td>\n",
              "      <td>LINESTRING (-122.30659 47.77427, -122.30597 47...</td>\n",
              "    </tr>\n",
              "    <tr>\n",
              "      <th>2</th>\n",
              "      <td>3</td>\n",
              "      <td>21455</td>\n",
              "      <td>1993-06-28</td>\n",
              "      <td>1993-06-28</td>\n",
              "      <td>2010-07-14</td>\n",
              "      <td>4000-01-01</td>\n",
              "      <td>A40</td>\n",
              "      <td>0</td>\n",
              "      <td>302912</td>\n",
              "      <td>92695</td>\n",
              "      <td>...</td>\n",
              "      <td>None</td>\n",
              "      <td>76</td>\n",
              "      <td>76</td>\n",
              "      <td>Tukwila</td>\n",
              "      <td>Tukwila</td>\n",
              "      <td>98188.0</td>\n",
              "      <td>98188.0</td>\n",
              "      <td>65.265000</td>\n",
              "      <td>64.742908</td>\n",
              "      <td>LINESTRING (-122.27349 47.45626, -122.27323 47...</td>\n",
              "    </tr>\n",
              "    <tr>\n",
              "      <th>3</th>\n",
              "      <td>4</td>\n",
              "      <td>9889</td>\n",
              "      <td>1993-06-28</td>\n",
              "      <td>1993-06-28</td>\n",
              "      <td>1995-11-15</td>\n",
              "      <td>4000-01-01</td>\n",
              "      <td>A40</td>\n",
              "      <td>0</td>\n",
              "      <td>86397</td>\n",
              "      <td>344665</td>\n",
              "      <td>...</td>\n",
              "      <td>None</td>\n",
              "      <td>36</td>\n",
              "      <td>36</td>\n",
              "      <td>King County</td>\n",
              "      <td>King County</td>\n",
              "      <td>98059.0</td>\n",
              "      <td>98059.0</td>\n",
              "      <td>268.068564</td>\n",
              "      <td>268.068564</td>\n",
              "      <td>LINESTRING (-122.10365 47.48038, -122.10364 47...</td>\n",
              "    </tr>\n",
              "    <tr>\n",
              "      <th>4</th>\n",
              "      <td>5</td>\n",
              "      <td>115925</td>\n",
              "      <td>1993-06-28</td>\n",
              "      <td>1993-06-28</td>\n",
              "      <td>2016-09-22</td>\n",
              "      <td>4000-01-01</td>\n",
              "      <td>A40</td>\n",
              "      <td>0</td>\n",
              "      <td>97983</td>\n",
              "      <td>98111</td>\n",
              "      <td>...</td>\n",
              "      <td>None</td>\n",
              "      <td>11</td>\n",
              "      <td>11</td>\n",
              "      <td>Burien</td>\n",
              "      <td>Burien</td>\n",
              "      <td>98148.0</td>\n",
              "      <td>98148.0</td>\n",
              "      <td>214.350000</td>\n",
              "      <td>214.349847</td>\n",
              "      <td>LINESTRING (-122.32989 47.43516, -122.32998 47...</td>\n",
              "    </tr>\n",
              "  </tbody>\n",
              "</table>\n",
              "<p>5 rows × 33 columns</p>\n",
              "</div>\n",
              "    <div class=\"colab-df-buttons\">\n",
              "\n",
              "  <div class=\"colab-df-container\">\n",
              "    <button class=\"colab-df-convert\" onclick=\"convertToInteractive('df-bfb699e8-16b5-4212-8501-91589f0ce640')\"\n",
              "            title=\"Convert this dataframe to an interactive table.\"\n",
              "            style=\"display:none;\">\n",
              "\n",
              "  <svg xmlns=\"http://www.w3.org/2000/svg\" height=\"24px\" viewBox=\"0 -960 960 960\">\n",
              "    <path d=\"M120-120v-720h720v720H120Zm60-500h600v-160H180v160Zm220 220h160v-160H400v160Zm0 220h160v-160H400v160ZM180-400h160v-160H180v160Zm440 0h160v-160H620v160ZM180-180h160v-160H180v160Zm440 0h160v-160H620v160Z\"/>\n",
              "  </svg>\n",
              "    </button>\n",
              "\n",
              "  <style>\n",
              "    .colab-df-container {\n",
              "      display:flex;\n",
              "      gap: 12px;\n",
              "    }\n",
              "\n",
              "    .colab-df-convert {\n",
              "      background-color: #E8F0FE;\n",
              "      border: none;\n",
              "      border-radius: 50%;\n",
              "      cursor: pointer;\n",
              "      display: none;\n",
              "      fill: #1967D2;\n",
              "      height: 32px;\n",
              "      padding: 0 0 0 0;\n",
              "      width: 32px;\n",
              "    }\n",
              "\n",
              "    .colab-df-convert:hover {\n",
              "      background-color: #E2EBFA;\n",
              "      box-shadow: 0px 1px 2px rgba(60, 64, 67, 0.3), 0px 1px 3px 1px rgba(60, 64, 67, 0.15);\n",
              "      fill: #174EA6;\n",
              "    }\n",
              "\n",
              "    .colab-df-buttons div {\n",
              "      margin-bottom: 4px;\n",
              "    }\n",
              "\n",
              "    [theme=dark] .colab-df-convert {\n",
              "      background-color: #3B4455;\n",
              "      fill: #D2E3FC;\n",
              "    }\n",
              "\n",
              "    [theme=dark] .colab-df-convert:hover {\n",
              "      background-color: #434B5C;\n",
              "      box-shadow: 0px 1px 3px 1px rgba(0, 0, 0, 0.15);\n",
              "      filter: drop-shadow(0px 1px 2px rgba(0, 0, 0, 0.3));\n",
              "      fill: #FFFFFF;\n",
              "    }\n",
              "  </style>\n",
              "\n",
              "    <script>\n",
              "      const buttonEl =\n",
              "        document.querySelector('#df-bfb699e8-16b5-4212-8501-91589f0ce640 button.colab-df-convert');\n",
              "      buttonEl.style.display =\n",
              "        google.colab.kernel.accessAllowed ? 'block' : 'none';\n",
              "\n",
              "      async function convertToInteractive(key) {\n",
              "        const element = document.querySelector('#df-bfb699e8-16b5-4212-8501-91589f0ce640');\n",
              "        const dataTable =\n",
              "          await google.colab.kernel.invokeFunction('convertToInteractive',\n",
              "                                                    [key], {});\n",
              "        if (!dataTable) return;\n",
              "\n",
              "        const docLinkHtml = 'Like what you see? Visit the ' +\n",
              "          '<a target=\"_blank\" href=https://colab.research.google.com/notebooks/data_table.ipynb>data table notebook</a>'\n",
              "          + ' to learn more about interactive tables.';\n",
              "        element.innerHTML = '';\n",
              "        dataTable['output_type'] = 'display_data';\n",
              "        await google.colab.output.renderOutput(dataTable, element);\n",
              "        const docLink = document.createElement('div');\n",
              "        docLink.innerHTML = docLinkHtml;\n",
              "        element.appendChild(docLink);\n",
              "      }\n",
              "    </script>\n",
              "  </div>\n",
              "\n",
              "\n",
              "<div id=\"df-d4157f69-1d29-4372-99dd-21210d6d526c\">\n",
              "  <button class=\"colab-df-quickchart\" onclick=\"quickchart('df-d4157f69-1d29-4372-99dd-21210d6d526c')\"\n",
              "            title=\"Suggest charts\"\n",
              "            style=\"display:none;\">\n",
              "\n",
              "<svg xmlns=\"http://www.w3.org/2000/svg\" height=\"24px\"viewBox=\"0 0 24 24\"\n",
              "     width=\"24px\">\n",
              "    <g>\n",
              "        <path d=\"M19 3H5c-1.1 0-2 .9-2 2v14c0 1.1.9 2 2 2h14c1.1 0 2-.9 2-2V5c0-1.1-.9-2-2-2zM9 17H7v-7h2v7zm4 0h-2V7h2v10zm4 0h-2v-4h2v4z\"/>\n",
              "    </g>\n",
              "</svg>\n",
              "  </button>\n",
              "\n",
              "<style>\n",
              "  .colab-df-quickchart {\n",
              "      --bg-color: #E8F0FE;\n",
              "      --fill-color: #1967D2;\n",
              "      --hover-bg-color: #E2EBFA;\n",
              "      --hover-fill-color: #174EA6;\n",
              "      --disabled-fill-color: #AAA;\n",
              "      --disabled-bg-color: #DDD;\n",
              "  }\n",
              "\n",
              "  [theme=dark] .colab-df-quickchart {\n",
              "      --bg-color: #3B4455;\n",
              "      --fill-color: #D2E3FC;\n",
              "      --hover-bg-color: #434B5C;\n",
              "      --hover-fill-color: #FFFFFF;\n",
              "      --disabled-bg-color: #3B4455;\n",
              "      --disabled-fill-color: #666;\n",
              "  }\n",
              "\n",
              "  .colab-df-quickchart {\n",
              "    background-color: var(--bg-color);\n",
              "    border: none;\n",
              "    border-radius: 50%;\n",
              "    cursor: pointer;\n",
              "    display: none;\n",
              "    fill: var(--fill-color);\n",
              "    height: 32px;\n",
              "    padding: 0;\n",
              "    width: 32px;\n",
              "  }\n",
              "\n",
              "  .colab-df-quickchart:hover {\n",
              "    background-color: var(--hover-bg-color);\n",
              "    box-shadow: 0 1px 2px rgba(60, 64, 67, 0.3), 0 1px 3px 1px rgba(60, 64, 67, 0.15);\n",
              "    fill: var(--button-hover-fill-color);\n",
              "  }\n",
              "\n",
              "  .colab-df-quickchart-complete:disabled,\n",
              "  .colab-df-quickchart-complete:disabled:hover {\n",
              "    background-color: var(--disabled-bg-color);\n",
              "    fill: var(--disabled-fill-color);\n",
              "    box-shadow: none;\n",
              "  }\n",
              "\n",
              "  .colab-df-spinner {\n",
              "    border: 2px solid var(--fill-color);\n",
              "    border-color: transparent;\n",
              "    border-bottom-color: var(--fill-color);\n",
              "    animation:\n",
              "      spin 1s steps(1) infinite;\n",
              "  }\n",
              "\n",
              "  @keyframes spin {\n",
              "    0% {\n",
              "      border-color: transparent;\n",
              "      border-bottom-color: var(--fill-color);\n",
              "      border-left-color: var(--fill-color);\n",
              "    }\n",
              "    20% {\n",
              "      border-color: transparent;\n",
              "      border-left-color: var(--fill-color);\n",
              "      border-top-color: var(--fill-color);\n",
              "    }\n",
              "    30% {\n",
              "      border-color: transparent;\n",
              "      border-left-color: var(--fill-color);\n",
              "      border-top-color: var(--fill-color);\n",
              "      border-right-color: var(--fill-color);\n",
              "    }\n",
              "    40% {\n",
              "      border-color: transparent;\n",
              "      border-right-color: var(--fill-color);\n",
              "      border-top-color: var(--fill-color);\n",
              "    }\n",
              "    60% {\n",
              "      border-color: transparent;\n",
              "      border-right-color: var(--fill-color);\n",
              "    }\n",
              "    80% {\n",
              "      border-color: transparent;\n",
              "      border-right-color: var(--fill-color);\n",
              "      border-bottom-color: var(--fill-color);\n",
              "    }\n",
              "    90% {\n",
              "      border-color: transparent;\n",
              "      border-bottom-color: var(--fill-color);\n",
              "    }\n",
              "  }\n",
              "</style>\n",
              "\n",
              "  <script>\n",
              "    async function quickchart(key) {\n",
              "      const quickchartButtonEl =\n",
              "        document.querySelector('#' + key + ' button');\n",
              "      quickchartButtonEl.disabled = true;  // To prevent multiple clicks.\n",
              "      quickchartButtonEl.classList.add('colab-df-spinner');\n",
              "      try {\n",
              "        const charts = await google.colab.kernel.invokeFunction(\n",
              "            'suggestCharts', [key], {});\n",
              "      } catch (error) {\n",
              "        console.error('Error during call to suggestCharts:', error);\n",
              "      }\n",
              "      quickchartButtonEl.classList.remove('colab-df-spinner');\n",
              "      quickchartButtonEl.classList.add('colab-df-quickchart-complete');\n",
              "    }\n",
              "    (() => {\n",
              "      let quickchartButtonEl =\n",
              "        document.querySelector('#df-d4157f69-1d29-4372-99dd-21210d6d526c button');\n",
              "      quickchartButtonEl.style.display =\n",
              "        google.colab.kernel.accessAllowed ? 'block' : 'none';\n",
              "    })();\n",
              "  </script>\n",
              "</div>\n",
              "\n",
              "    </div>\n",
              "  </div>\n"
            ],
            "application/vnd.google.colaboratory.intrinsic+json": {
              "type": "dataframe",
              "variable_name": "bike_routes_gdf"
            }
          },
          "metadata": {},
          "execution_count": 11
        }
      ]
    },
    {
      "cell_type": "code",
      "source": [
        "bike_routes_gdf.plot()"
      ],
      "metadata": {
        "id": "Q2WjGVdPz0Xp",
        "outputId": "f1bf6dbe-23fb-4ec4-e8b2-e710c4a0299f",
        "colab": {
          "base_uri": "https://localhost:8080/",
          "height": 448
        }
      },
      "execution_count": 12,
      "outputs": [
        {
          "output_type": "execute_result",
          "data": {
            "text/plain": [
              "<Axes: >"
            ]
          },
          "metadata": {},
          "execution_count": 12
        },
        {
          "output_type": "display_data",
          "data": {
            "text/plain": [
              "<Figure size 640x480 with 1 Axes>"
            ],
            "image/png": "[encoded data removed]"
          },
          "metadata": {}
        }
      ]
    },
    {
      "cell_type": "code",
      "source": [],
      "metadata": {
        "id": "2kYOkm7Y3QkT"
      },
      "execution_count": null,
      "outputs": []
    }
  ]
}